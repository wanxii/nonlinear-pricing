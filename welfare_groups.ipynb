{
 "cells": [
  {
   "cell_type": "code",
   "execution_count": 1,
   "id": "c9d54c0f",
   "metadata": {},
   "outputs": [],
   "source": [
    "import pandas as pd\n",
    "import numpy as np\n",
    "import seaborn as sns\n",
    "import matplotlib.pyplot as plt"
   ]
  },
  {
   "cell_type": "markdown",
   "id": "d338d4d8",
   "metadata": {},
   "source": [
    "# Original Data"
   ]
  },
  {
   "cell_type": "markdown",
   "id": "29b19a18",
   "metadata": {},
   "source": [
    "## Tables"
   ]
  },
  {
   "cell_type": "markdown",
   "id": "fc44724c",
   "metadata": {},
   "source": [
    "### Profit by Groups"
   ]
  },
  {
   "cell_type": "code",
   "execution_count": 2,
   "id": "9da8dec4",
   "metadata": {},
   "outputs": [
    {
     "data": {
      "text/html": [
       "<div>\n",
       "<style scoped>\n",
       "    .dataframe tbody tr th:only-of-type {\n",
       "        vertical-align: middle;\n",
       "    }\n",
       "\n",
       "    .dataframe tbody tr th {\n",
       "        vertical-align: top;\n",
       "    }\n",
       "\n",
       "    .dataframe thead th {\n",
       "        text-align: right;\n",
       "    }\n",
       "</style>\n",
       "<table border=\"1\" class=\"dataframe\">\n",
       "  <thead>\n",
       "    <tr style=\"text-align: right;\">\n",
       "      <th></th>\n",
       "      <th>Small (&lt;20)</th>\n",
       "      <th>Medium (20-49)</th>\n",
       "      <th>Large (≥50)</th>\n",
       "      <th>Total</th>\n",
       "    </tr>\n",
       "  </thead>\n",
       "  <tbody>\n",
       "    <tr>\n",
       "      <th>Current</th>\n",
       "      <td>9.07</td>\n",
       "      <td>4.81</td>\n",
       "      <td>4.38</td>\n",
       "      <td>18.26</td>\n",
       "    </tr>\n",
       "    <tr>\n",
       "      <th>First-Degree PD</th>\n",
       "      <td>18.35</td>\n",
       "      <td>10.50</td>\n",
       "      <td>9.93</td>\n",
       "      <td>38.78</td>\n",
       "    </tr>\n",
       "    <tr>\n",
       "      <th>Linear</th>\n",
       "      <td>9.15</td>\n",
       "      <td>5.15</td>\n",
       "      <td>4.41</td>\n",
       "      <td>18.71</td>\n",
       "    </tr>\n",
       "    <tr>\n",
       "      <th>Nonlinear</th>\n",
       "      <td>9.57</td>\n",
       "      <td>5.65</td>\n",
       "      <td>4.98</td>\n",
       "      <td>20.20</td>\n",
       "    </tr>\n",
       "  </tbody>\n",
       "</table>\n",
       "</div>"
      ],
      "text/plain": [
       "                 Small (<20)  Medium (20-49)  Large (≥50)  Total\n",
       "Current                 9.07            4.81         4.38  18.26\n",
       "First-Degree PD        18.35           10.50         9.93  38.78\n",
       "Linear                  9.15            5.15         4.41  18.71\n",
       "Nonlinear               9.57            5.65         4.98  20.20"
      ]
     },
     "execution_count": 2,
     "metadata": {},
     "output_type": "execute_result"
    }
   ],
   "source": [
    "# 3 Groups\n",
    "profit3_df = pd.DataFrame({\"Small (<20)\": {\"Current\": 9.07, \"First-Degree PD\": 18.35, \"Linear\": 9.15, \"Nonlinear\": 9.57},\n",
    "              \"Medium (20-49)\": {\"Current\": 4.81, \"First-Degree PD\": 10.50, \"Linear\": 5.15, \"Nonlinear\": 5.65},\n",
    "              \"Large (≥50)\": {\"Current\": 4.38, \"First-Degree PD\": 9.93, \"Linear\": 4.41, \"Nonlinear\": 4.98}})\n",
    "profit3_df[\"Total\"] = profit3_df.sum(axis=1)\n",
    "profit3_df"
   ]
  },
  {
   "cell_type": "code",
   "execution_count": 3,
   "id": "e2bd8d63",
   "metadata": {},
   "outputs": [
    {
     "name": "stdout",
     "output_type": "stream",
     "text": [
      "\\begin{tabular}{lrrrr}\n",
      "\\toprule\n",
      "{} &  Small (<20) &  Medium (20-49) &  Large (≥50) &  Total \\\\\n",
      "\\midrule\n",
      "Current         &         9.07 &            4.81 &         4.38 &  18.26 \\\\\n",
      "First-Degree PD &        18.35 &           10.50 &         9.93 &  38.78 \\\\\n",
      "Linear          &         9.15 &            5.15 &         4.41 &  18.71 \\\\\n",
      "Nonlinear       &         9.57 &            5.65 &         4.98 &  20.20 \\\\\n",
      "\\bottomrule\n",
      "\\end{tabular}\n",
      "\n"
     ]
    },
    {
     "name": "stderr",
     "output_type": "stream",
     "text": [
      "C:\\Users\\lenovo\\AppData\\Local\\Temp\\ipykernel_19632\\147725666.py:1: FutureWarning: In future versions `DataFrame.to_latex` is expected to utilise the base implementation of `Styler.to_latex` for formatting and rendering. The arguments signature may therefore change. It is recommended instead to use `DataFrame.style.to_latex` which also contains additional functionality.\n",
      "  print(profit3_df.to_latex())\n"
     ]
    }
   ],
   "source": [
    "print(profit3_df.to_latex())"
   ]
  },
  {
   "cell_type": "code",
   "execution_count": 4,
   "id": "6072ede9",
   "metadata": {},
   "outputs": [
    {
     "data": {
      "text/html": [
       "<div>\n",
       "<style scoped>\n",
       "    .dataframe tbody tr th:only-of-type {\n",
       "        vertical-align: middle;\n",
       "    }\n",
       "\n",
       "    .dataframe tbody tr th {\n",
       "        vertical-align: top;\n",
       "    }\n",
       "\n",
       "    .dataframe thead th {\n",
       "        text-align: right;\n",
       "    }\n",
       "</style>\n",
       "<table border=\"1\" class=\"dataframe\">\n",
       "  <thead>\n",
       "    <tr style=\"text-align: right;\">\n",
       "      <th></th>\n",
       "      <th>Group1 (&lt;10)</th>\n",
       "      <th>Group2 (10-19)</th>\n",
       "      <th>Group3 (20-49)</th>\n",
       "      <th>Group4 (50-99)</th>\n",
       "      <th>Group5 (≥100)</th>\n",
       "      <th>Total</th>\n",
       "    </tr>\n",
       "  </thead>\n",
       "  <tbody>\n",
       "    <tr>\n",
       "      <th>Current</th>\n",
       "      <td>4.82</td>\n",
       "      <td>4.25</td>\n",
       "      <td>4.81</td>\n",
       "      <td>2.22</td>\n",
       "      <td>2.16</td>\n",
       "      <td>18.26</td>\n",
       "    </tr>\n",
       "    <tr>\n",
       "      <th>First-Degree PD</th>\n",
       "      <td>10.47</td>\n",
       "      <td>7.88</td>\n",
       "      <td>10.50</td>\n",
       "      <td>4.66</td>\n",
       "      <td>5.27</td>\n",
       "      <td>38.78</td>\n",
       "    </tr>\n",
       "    <tr>\n",
       "      <th>Linear</th>\n",
       "      <td>4.71</td>\n",
       "      <td>4.44</td>\n",
       "      <td>5.15</td>\n",
       "      <td>2.26</td>\n",
       "      <td>2.15</td>\n",
       "      <td>18.71</td>\n",
       "    </tr>\n",
       "    <tr>\n",
       "      <th>Nonlinear</th>\n",
       "      <td>5.09</td>\n",
       "      <td>4.48</td>\n",
       "      <td>5.65</td>\n",
       "      <td>2.64</td>\n",
       "      <td>2.33</td>\n",
       "      <td>20.19</td>\n",
       "    </tr>\n",
       "  </tbody>\n",
       "</table>\n",
       "</div>"
      ],
      "text/plain": [
       "                 Group1 (<10)  Group2 (10-19)  Group3 (20-49)  Group4 (50-99)  \\\n",
       "Current                  4.82            4.25            4.81            2.22   \n",
       "First-Degree PD         10.47            7.88           10.50            4.66   \n",
       "Linear                   4.71            4.44            5.15            2.26   \n",
       "Nonlinear                5.09            4.48            5.65            2.64   \n",
       "\n",
       "                 Group5 (≥100)  Total  \n",
       "Current                   2.16  18.26  \n",
       "First-Degree PD           5.27  38.78  \n",
       "Linear                    2.15  18.71  \n",
       "Nonlinear                 2.33  20.19  "
      ]
     },
     "execution_count": 4,
     "metadata": {},
     "output_type": "execute_result"
    }
   ],
   "source": [
    "# 5 groups\n",
    "profit5_df = pd.DataFrame({\"Group1 (<10)\": {\"Current\": 4.82, \"First-Degree PD\": 10.47, \"Linear\": 4.71, \"Nonlinear\": 5.09},\n",
    "              \"Group2 (10-19)\": {\"Current\": 4.25, \"First-Degree PD\": 7.88, \"Linear\": 4.44, \"Nonlinear\": 4.48},\n",
    "              \"Group3 (20-49)\": {\"Current\": 4.81, \"First-Degree PD\": 10.50, \"Linear\": 5.15, \"Nonlinear\": 5.65},\n",
    "              \"Group4 (50-99)\": {\"Current\": 2.22, \"First-Degree PD\": 4.66, \"Linear\": 2.26, \"Nonlinear\": 2.64},\n",
    "              \"Group5 (≥100)\": {\"Current\": 2.16, \"First-Degree PD\": 5.27, \"Linear\": 2.15, \"Nonlinear\": 2.33}})\n",
    "profit5_df[\"Total\"] = profit5_df.sum(axis=1)\n",
    "profit5_df"
   ]
  },
  {
   "cell_type": "code",
   "execution_count": 5,
   "id": "f58836db",
   "metadata": {},
   "outputs": [
    {
     "name": "stdout",
     "output_type": "stream",
     "text": [
      "\\begin{tabular}{lrrrrrr}\n",
      "\\toprule\n",
      "{} &  Group1 (<10) &  Group2 (10-19) &  Group3 (20-49) &  Group4 (50-99) &  Group5 (≥100) &  Total \\\\\n",
      "\\midrule\n",
      "Current         &          4.82 &            4.25 &            4.81 &            2.22 &           2.16 &  18.26 \\\\\n",
      "First-Degree PD &         10.47 &            7.88 &           10.50 &            4.66 &           5.27 &  38.78 \\\\\n",
      "Linear          &          4.71 &            4.44 &            5.15 &            2.26 &           2.15 &  18.71 \\\\\n",
      "Nonlinear       &          5.09 &            4.48 &            5.65 &            2.64 &           2.33 &  20.19 \\\\\n",
      "\\bottomrule\n",
      "\\end{tabular}\n",
      "\n"
     ]
    },
    {
     "name": "stderr",
     "output_type": "stream",
     "text": [
      "C:\\Users\\lenovo\\AppData\\Local\\Temp\\ipykernel_19632\\3227267008.py:1: FutureWarning: In future versions `DataFrame.to_latex` is expected to utilise the base implementation of `Styler.to_latex` for formatting and rendering. The arguments signature may therefore change. It is recommended instead to use `DataFrame.style.to_latex` which also contains additional functionality.\n",
      "  print(profit5_df.to_latex())\n"
     ]
    }
   ],
   "source": [
    "print(profit5_df.to_latex())"
   ]
  },
  {
   "cell_type": "markdown",
   "id": "0d32cee3",
   "metadata": {},
   "source": [
    "### Consumer Welfare by Groups"
   ]
  },
  {
   "cell_type": "code",
   "execution_count": 6,
   "id": "2a8a7589",
   "metadata": {},
   "outputs": [
    {
     "data": {
      "text/html": [
       "<div>\n",
       "<style scoped>\n",
       "    .dataframe tbody tr th:only-of-type {\n",
       "        vertical-align: middle;\n",
       "    }\n",
       "\n",
       "    .dataframe tbody tr th {\n",
       "        vertical-align: top;\n",
       "    }\n",
       "\n",
       "    .dataframe thead th {\n",
       "        text-align: right;\n",
       "    }\n",
       "</style>\n",
       "<table border=\"1\" class=\"dataframe\">\n",
       "  <thead>\n",
       "    <tr style=\"text-align: right;\">\n",
       "      <th></th>\n",
       "      <th>Group1 (&lt;10)</th>\n",
       "      <th>Group2 (10-19)</th>\n",
       "      <th>Group3 (20-49)</th>\n",
       "      <th>Group4 (50-99)</th>\n",
       "      <th>Group5 (≥100)</th>\n",
       "      <th>Total</th>\n",
       "    </tr>\n",
       "  </thead>\n",
       "  <tbody>\n",
       "    <tr>\n",
       "      <th>Current</th>\n",
       "      <td>1.99</td>\n",
       "      <td>1.61</td>\n",
       "      <td>1.51</td>\n",
       "      <td>0.72</td>\n",
       "      <td>0.87</td>\n",
       "      <td>6.70</td>\n",
       "    </tr>\n",
       "    <tr>\n",
       "      <th>First-Degree PD</th>\n",
       "      <td>0.00</td>\n",
       "      <td>0.00</td>\n",
       "      <td>0.00</td>\n",
       "      <td>0.00</td>\n",
       "      <td>0.00</td>\n",
       "      <td>0.00</td>\n",
       "    </tr>\n",
       "    <tr>\n",
       "      <th>Linear</th>\n",
       "      <td>4.31</td>\n",
       "      <td>2.47</td>\n",
       "      <td>1.84</td>\n",
       "      <td>0.73</td>\n",
       "      <td>0.75</td>\n",
       "      <td>10.10</td>\n",
       "    </tr>\n",
       "    <tr>\n",
       "      <th>Nonlinear</th>\n",
       "      <td>2.86</td>\n",
       "      <td>2.22</td>\n",
       "      <td>2.83</td>\n",
       "      <td>1.16</td>\n",
       "      <td>1.12</td>\n",
       "      <td>10.19</td>\n",
       "    </tr>\n",
       "  </tbody>\n",
       "</table>\n",
       "</div>"
      ],
      "text/plain": [
       "                 Group1 (<10)  Group2 (10-19)  Group3 (20-49)  Group4 (50-99)  \\\n",
       "Current                  1.99            1.61            1.51            0.72   \n",
       "First-Degree PD          0.00            0.00            0.00            0.00   \n",
       "Linear                   4.31            2.47            1.84            0.73   \n",
       "Nonlinear                2.86            2.22            2.83            1.16   \n",
       "\n",
       "                 Group5 (≥100)  Total  \n",
       "Current                   0.87   6.70  \n",
       "First-Degree PD           0.00   0.00  \n",
       "Linear                    0.75  10.10  \n",
       "Nonlinear                 1.12  10.19  "
      ]
     },
     "execution_count": 6,
     "metadata": {},
     "output_type": "execute_result"
    }
   ],
   "source": [
    "cs_df = pd.DataFrame({\"Group1 (<10)\": {\"Current\": 1.99, \"First-Degree PD\": 0, \"Linear\": 4.31, \"Nonlinear\": 2.86},\n",
    "              \"Group2 (10-19)\": {\"Current\": 1.61, \"First-Degree PD\": 0, \"Linear\": 2.47, \"Nonlinear\": 2.22},\n",
    "              \"Group3 (20-49)\": {\"Current\": 1.51, \"First-Degree PD\": 0, \"Linear\": 1.84, \"Nonlinear\": 2.83},\n",
    "              \"Group4 (50-99)\": {\"Current\": 0.72, \"First-Degree PD\": 0, \"Linear\": 0.73, \"Nonlinear\": 1.16},\n",
    "              \"Group5 (≥100)\": {\"Current\": 0.87, \"First-Degree PD\": 0, \"Linear\": 0.75, \"Nonlinear\": 1.12}})\n",
    "cs_df[\"Total\"] = cs_df.sum(axis=1)\n",
    "cs_df"
   ]
  },
  {
   "cell_type": "code",
   "execution_count": 7,
   "id": "653a33e3",
   "metadata": {},
   "outputs": [
    {
     "name": "stdout",
     "output_type": "stream",
     "text": [
      "\\begin{tabular}{lrrrrrr}\n",
      "\\toprule\n",
      "{} &  Group1 (<10) &  Group2 (10-19) &  Group3 (20-49) &  Group4 (50-99) &  Group5 (≥100) &  Total \\\\\n",
      "\\midrule\n",
      "Current         &          1.99 &            1.61 &            1.51 &            0.72 &           0.87 &   6.70 \\\\\n",
      "First-Degree PD &          0.00 &            0.00 &            0.00 &            0.00 &           0.00 &   0.00 \\\\\n",
      "Linear          &          4.31 &            2.47 &            1.84 &            0.73 &           0.75 &  10.10 \\\\\n",
      "Nonlinear       &          2.86 &            2.22 &            2.83 &            1.16 &           1.12 &  10.19 \\\\\n",
      "\\bottomrule\n",
      "\\end{tabular}\n",
      "\n"
     ]
    },
    {
     "name": "stderr",
     "output_type": "stream",
     "text": [
      "C:\\Users\\lenovo\\AppData\\Local\\Temp\\ipykernel_19632\\2609820234.py:1: FutureWarning: In future versions `DataFrame.to_latex` is expected to utilise the base implementation of `Styler.to_latex` for formatting and rendering. The arguments signature may therefore change. It is recommended instead to use `DataFrame.style.to_latex` which also contains additional functionality.\n",
      "  print(cs_df.to_latex())\n"
     ]
    }
   ],
   "source": [
    "print(cs_df.to_latex())"
   ]
  },
  {
   "cell_type": "markdown",
   "id": "0b1600cc",
   "metadata": {},
   "source": [
    "### Social Welfare by Groups"
   ]
  },
  {
   "cell_type": "code",
   "execution_count": 8,
   "id": "18affde9",
   "metadata": {},
   "outputs": [
    {
     "data": {
      "text/html": [
       "<div>\n",
       "<style scoped>\n",
       "    .dataframe tbody tr th:only-of-type {\n",
       "        vertical-align: middle;\n",
       "    }\n",
       "\n",
       "    .dataframe tbody tr th {\n",
       "        vertical-align: top;\n",
       "    }\n",
       "\n",
       "    .dataframe thead th {\n",
       "        text-align: right;\n",
       "    }\n",
       "</style>\n",
       "<table border=\"1\" class=\"dataframe\">\n",
       "  <thead>\n",
       "    <tr style=\"text-align: right;\">\n",
       "      <th></th>\n",
       "      <th>Group1 (&lt;10)</th>\n",
       "      <th>Group2 (10-19)</th>\n",
       "      <th>Group3 (20-49)</th>\n",
       "      <th>Group4 (50-99)</th>\n",
       "      <th>Group5 (≥100)</th>\n",
       "      <th>Total</th>\n",
       "    </tr>\n",
       "  </thead>\n",
       "  <tbody>\n",
       "    <tr>\n",
       "      <th>Current</th>\n",
       "      <td>6.81</td>\n",
       "      <td>5.86</td>\n",
       "      <td>6.32</td>\n",
       "      <td>2.94</td>\n",
       "      <td>3.03</td>\n",
       "      <td>24.96</td>\n",
       "    </tr>\n",
       "    <tr>\n",
       "      <th>First-Degree PD</th>\n",
       "      <td>10.47</td>\n",
       "      <td>7.88</td>\n",
       "      <td>10.50</td>\n",
       "      <td>4.66</td>\n",
       "      <td>5.27</td>\n",
       "      <td>38.78</td>\n",
       "    </tr>\n",
       "    <tr>\n",
       "      <th>Linear</th>\n",
       "      <td>9.02</td>\n",
       "      <td>6.91</td>\n",
       "      <td>6.99</td>\n",
       "      <td>2.99</td>\n",
       "      <td>2.90</td>\n",
       "      <td>28.81</td>\n",
       "    </tr>\n",
       "    <tr>\n",
       "      <th>Nonlinear</th>\n",
       "      <td>7.95</td>\n",
       "      <td>6.70</td>\n",
       "      <td>8.48</td>\n",
       "      <td>3.80</td>\n",
       "      <td>3.45</td>\n",
       "      <td>30.38</td>\n",
       "    </tr>\n",
       "  </tbody>\n",
       "</table>\n",
       "</div>"
      ],
      "text/plain": [
       "                 Group1 (<10)  Group2 (10-19)  Group3 (20-49)  Group4 (50-99)  \\\n",
       "Current                  6.81            5.86            6.32            2.94   \n",
       "First-Degree PD         10.47            7.88           10.50            4.66   \n",
       "Linear                   9.02            6.91            6.99            2.99   \n",
       "Nonlinear                7.95            6.70            8.48            3.80   \n",
       "\n",
       "                 Group5 (≥100)  Total  \n",
       "Current                   3.03  24.96  \n",
       "First-Degree PD           5.27  38.78  \n",
       "Linear                    2.90  28.81  \n",
       "Nonlinear                 3.45  30.38  "
      ]
     },
     "execution_count": 8,
     "metadata": {},
     "output_type": "execute_result"
    }
   ],
   "source": [
    "sw_df = profit5_df + cs_df\n",
    "sw_df"
   ]
  },
  {
   "cell_type": "code",
   "execution_count": 9,
   "id": "3b3ce133",
   "metadata": {},
   "outputs": [
    {
     "name": "stderr",
     "output_type": "stream",
     "text": [
      "C:\\Users\\lenovo\\AppData\\Local\\Temp\\ipykernel_19632\\4214689937.py:1: FutureWarning: In future versions `DataFrame.to_latex` is expected to utilise the base implementation of `Styler.to_latex` for formatting and rendering. The arguments signature may therefore change. It is recommended instead to use `DataFrame.style.to_latex` which also contains additional functionality.\n",
      "  print(sw_df.to_latex())\n"
     ]
    },
    {
     "name": "stdout",
     "output_type": "stream",
     "text": [
      "\\begin{tabular}{lrrrrrr}\n",
      "\\toprule\n",
      "{} &  Group1 (<10) &  Group2 (10-19) &  Group3 (20-49) &  Group4 (50-99) &  Group5 (≥100) &  Total \\\\\n",
      "\\midrule\n",
      "Current         &          6.81 &            5.86 &            6.32 &            2.94 &           3.03 &  24.96 \\\\\n",
      "First-Degree PD &         10.47 &            7.88 &           10.50 &            4.66 &           5.27 &  38.78 \\\\\n",
      "Linear          &          9.02 &            6.91 &            6.99 &            2.99 &           2.90 &  28.81 \\\\\n",
      "Nonlinear       &          7.95 &            6.70 &            8.48 &            3.80 &           3.45 &  30.38 \\\\\n",
      "\\bottomrule\n",
      "\\end{tabular}\n",
      "\n"
     ]
    }
   ],
   "source": [
    "print(sw_df.to_latex())"
   ]
  },
  {
   "cell_type": "markdown",
   "id": "bea78a55",
   "metadata": {},
   "source": [
    "## Graphs"
   ]
  },
  {
   "cell_type": "code",
   "execution_count": 10,
   "id": "02078a06",
   "metadata": {},
   "outputs": [],
   "source": [
    "for Type, df in {\"Profit\": profit5_df, \"Consumer Welfare\": cs_df, \"Social Welfare\": sw_df}.items():\n",
    "    df.reset_index(names=\"Method\", inplace=True)\n",
    "    df[\"Type\"] = Type"
   ]
  },
  {
   "cell_type": "code",
   "execution_count": 17,
   "id": "ec56e0fd",
   "metadata": {},
   "outputs": [
    {
     "data": {
      "text/html": [
       "<div>\n",
       "<style scoped>\n",
       "    .dataframe tbody tr th:only-of-type {\n",
       "        vertical-align: middle;\n",
       "    }\n",
       "\n",
       "    .dataframe tbody tr th {\n",
       "        vertical-align: top;\n",
       "    }\n",
       "\n",
       "    .dataframe thead th {\n",
       "        text-align: right;\n",
       "    }\n",
       "</style>\n",
       "<table border=\"1\" class=\"dataframe\">\n",
       "  <thead>\n",
       "    <tr style=\"text-align: right;\">\n",
       "      <th></th>\n",
       "      <th>Method</th>\n",
       "      <th>Type</th>\n",
       "      <th>Total</th>\n",
       "      <th>Group</th>\n",
       "      <th>Value</th>\n",
       "    </tr>\n",
       "  </thead>\n",
       "  <tbody>\n",
       "    <tr>\n",
       "      <th>0</th>\n",
       "      <td>Current</td>\n",
       "      <td>Profit</td>\n",
       "      <td>18.26</td>\n",
       "      <td>Group1 (&lt;10)</td>\n",
       "      <td>4.82</td>\n",
       "    </tr>\n",
       "    <tr>\n",
       "      <th>1</th>\n",
       "      <td>First-Degree PD</td>\n",
       "      <td>Profit</td>\n",
       "      <td>38.78</td>\n",
       "      <td>Group1 (&lt;10)</td>\n",
       "      <td>10.47</td>\n",
       "    </tr>\n",
       "    <tr>\n",
       "      <th>2</th>\n",
       "      <td>Linear</td>\n",
       "      <td>Profit</td>\n",
       "      <td>18.71</td>\n",
       "      <td>Group1 (&lt;10)</td>\n",
       "      <td>4.71</td>\n",
       "    </tr>\n",
       "    <tr>\n",
       "      <th>3</th>\n",
       "      <td>Nonlinear</td>\n",
       "      <td>Profit</td>\n",
       "      <td>20.19</td>\n",
       "      <td>Group1 (&lt;10)</td>\n",
       "      <td>5.09</td>\n",
       "    </tr>\n",
       "    <tr>\n",
       "      <th>4</th>\n",
       "      <td>Current</td>\n",
       "      <td>Consumer Welfare</td>\n",
       "      <td>6.70</td>\n",
       "      <td>Group1 (&lt;10)</td>\n",
       "      <td>1.99</td>\n",
       "    </tr>\n",
       "  </tbody>\n",
       "</table>\n",
       "</div>"
      ],
      "text/plain": [
       "            Method              Type  Total         Group  Value\n",
       "0          Current            Profit  18.26  Group1 (<10)   4.82\n",
       "1  First-Degree PD            Profit  38.78  Group1 (<10)  10.47\n",
       "2           Linear            Profit  18.71  Group1 (<10)   4.71\n",
       "3        Nonlinear            Profit  20.19  Group1 (<10)   5.09\n",
       "4          Current  Consumer Welfare   6.70  Group1 (<10)   1.99"
      ]
     },
     "execution_count": 17,
     "metadata": {},
     "output_type": "execute_result"
    }
   ],
   "source": [
    "# Create dataframe for visualization\n",
    "welfare_df = (pd.concat([profit5_df, cs_df, sw_df])\n",
    "                .melt(id_vars=[\"Method\", \"Type\", \"Total\"],\n",
    "                      var_name=\"Group\",\n",
    "                      value_name=\"Value\"))\n",
    "welfare_df.head()"
   ]
  },
  {
   "cell_type": "code",
   "execution_count": 112,
   "id": "e52093fe",
   "metadata": {},
   "outputs": [
    {
     "data": {
      "image/png": "[encoded data removed]",
      "text/plain": [
       "<Figure size 1500x500 with 3 Axes>"
      ]
     },
     "metadata": {},
     "output_type": "display_data"
    }
   ],
   "source": [
    "# Barplot\n",
    "sns.set(font_scale=1.2)\n",
    "sns.set_style(\"ticks\")\n",
    "bar = (sns.catplot(data=welfare_df,\n",
    "            x=\"Group\", y=\"Value\", hue=\"Method\",\n",
    "            col=\"Type\", kind=\"bar\",\n",
    "            palette=\"ch:.25\",\n",
    "            legend=False)\n",
    "   .set_titles(col_template=\"{col_name}\")\n",
    "   .set_xticklabels(rotation=-45))\n",
    "\n",
    "plt.legend(loc=(0.8, 0.7), title=\"Price Contract\");\n",
    "\n",
    "bar.savefig(\"fig/groups_bar.svg\", dpi=400)"
   ]
  },
  {
   "cell_type": "code",
   "execution_count": 113,
   "id": "b15549a7",
   "metadata": {},
   "outputs": [
    {
     "data": {
      "image/png": "[encoded data removed]",
      "text/plain": [
       "<Figure size 1500x500 with 3 Axes>"
      ]
     },
     "metadata": {},
     "output_type": "display_data"
    }
   ],
   "source": [
    "# Pointplot\n",
    "point = (sns.catplot(data=welfare_df,\n",
    "            x=\"Group\", y=\"Value\", hue=\"Method\",\n",
    "            col=\"Type\", kind=\"point\",\n",
    "            palette=\"ch:.25\",\n",
    "            legend=False)\n",
    "   .set_titles(col_template=\"{col_name}\")\n",
    "   .set_xticklabels(rotation=-45))\n",
    "\n",
    "plt.legend(loc=(0.8, 0.7), title=\"Price Contract\");\n",
    "\n",
    "point.savefig(\"fig/groups_point.svg\", dpi=400)"
   ]
  },
  {
   "cell_type": "code",
   "execution_count": null,
   "id": "f7de4a49",
   "metadata": {},
   "outputs": [],
   "source": []
  },
  {
   "cell_type": "markdown",
   "id": "4aee1c9b",
   "metadata": {},
   "source": [
    "# Counterfactual (Dist.)"
   ]
  },
  {
   "cell_type": "markdown",
   "id": "c0a617f1",
   "metadata": {},
   "source": [
    "$Note: (f) -2\\gamma_{med}, \\gamma_{large}; (i) 2\\gamma_{med}, -\\gamma_{large}$"
   ]
  },
  {
   "cell_type": "markdown",
   "id": "04923943",
   "metadata": {},
   "source": [
    "## Local VS Global"
   ]
  },
  {
   "cell_type": "markdown",
   "id": "2e685196",
   "metadata": {},
   "source": [
    "### Profit by Groups"
   ]
  },
  {
   "cell_type": "code",
   "execution_count": 2,
   "id": "d492b30a",
   "metadata": {},
   "outputs": [
    {
     "data": {
      "text/html": [
       "<div>\n",
       "<style scoped>\n",
       "    .dataframe tbody tr th:only-of-type {\n",
       "        vertical-align: middle;\n",
       "    }\n",
       "\n",
       "    .dataframe tbody tr th {\n",
       "        vertical-align: top;\n",
       "    }\n",
       "\n",
       "    .dataframe thead th {\n",
       "        text-align: right;\n",
       "    }\n",
       "</style>\n",
       "<table border=\"1\" class=\"dataframe\">\n",
       "  <thead>\n",
       "    <tr style=\"text-align: right;\">\n",
       "      <th></th>\n",
       "      <th>Group1 (&lt;10)</th>\n",
       "      <th>Group2 (10-19)</th>\n",
       "      <th>Group3 (20-49)</th>\n",
       "      <th>Group4 (50-99)</th>\n",
       "      <th>Group5 (≥100)</th>\n",
       "      <th>Total</th>\n",
       "    </tr>\n",
       "  </thead>\n",
       "  <tbody>\n",
       "    <tr>\n",
       "      <th>Local</th>\n",
       "      <td>5.11</td>\n",
       "      <td>4.54</td>\n",
       "      <td>9.40</td>\n",
       "      <td>2.52</td>\n",
       "      <td>2.21</td>\n",
       "      <td>23.78</td>\n",
       "    </tr>\n",
       "    <tr>\n",
       "      <th>Global</th>\n",
       "      <td>5.00</td>\n",
       "      <td>4.04</td>\n",
       "      <td>12.76</td>\n",
       "      <td>2.52</td>\n",
       "      <td>2.23</td>\n",
       "      <td>26.55</td>\n",
       "    </tr>\n",
       "  </tbody>\n",
       "</table>\n",
       "</div>"
      ],
      "text/plain": [
       "        Group1 (<10)  Group2 (10-19)  Group3 (20-49)  Group4 (50-99)  \\\n",
       "Local           5.11            4.54            9.40            2.52   \n",
       "Global          5.00            4.04           12.76            2.52   \n",
       "\n",
       "        Group5 (≥100)  Total  \n",
       "Local            2.21  23.78  \n",
       "Global           2.23  26.55  "
      ]
     },
     "execution_count": 2,
     "metadata": {},
     "output_type": "execute_result"
    }
   ],
   "source": [
    "profit_f = pd.DataFrame({\"Group1 (<10)\": {\"Local\": 5.11, \"Global\": 5.00},\n",
    "              \"Group2 (10-19)\": {\"Local\": 4.54, \"Global\": 4.04},\n",
    "              \"Group3 (20-49)\": {\"Local\": 9.40, \"Global\": 12.76},\n",
    "              \"Group4 (50-99)\": {\"Local\": 2.52, \"Global\": 2.52},\n",
    "              \"Group5 (≥100)\": {\"Local\": 2.21, \"Global\": 2.23}})\n",
    "profit_f[\"Total\"] = profit_f.sum(axis=1)\n",
    "profit_f"
   ]
  },
  {
   "cell_type": "code",
   "execution_count": 3,
   "id": "df3f9553",
   "metadata": {},
   "outputs": [
    {
     "data": {
      "text/html": [
       "<div>\n",
       "<style scoped>\n",
       "    .dataframe tbody tr th:only-of-type {\n",
       "        vertical-align: middle;\n",
       "    }\n",
       "\n",
       "    .dataframe tbody tr th {\n",
       "        vertical-align: top;\n",
       "    }\n",
       "\n",
       "    .dataframe thead th {\n",
       "        text-align: right;\n",
       "    }\n",
       "</style>\n",
       "<table border=\"1\" class=\"dataframe\">\n",
       "  <thead>\n",
       "    <tr style=\"text-align: right;\">\n",
       "      <th></th>\n",
       "      <th>Group1 (&lt;10)</th>\n",
       "      <th>Group2 (10-19)</th>\n",
       "      <th>Group3 (20-49)</th>\n",
       "      <th>Group4 (50-99)</th>\n",
       "      <th>Group5 (≥100)</th>\n",
       "      <th>Total</th>\n",
       "    </tr>\n",
       "  </thead>\n",
       "  <tbody>\n",
       "    <tr>\n",
       "      <th>Local</th>\n",
       "      <td>5.11</td>\n",
       "      <td>4.41</td>\n",
       "      <td>3.39</td>\n",
       "      <td>2.44</td>\n",
       "      <td>4.32</td>\n",
       "      <td>19.67</td>\n",
       "    </tr>\n",
       "    <tr>\n",
       "      <th>Global</th>\n",
       "      <td>5.11</td>\n",
       "      <td>4.51</td>\n",
       "      <td>1.54</td>\n",
       "      <td>5.18</td>\n",
       "      <td>5.02</td>\n",
       "      <td>21.36</td>\n",
       "    </tr>\n",
       "  </tbody>\n",
       "</table>\n",
       "</div>"
      ],
      "text/plain": [
       "        Group1 (<10)  Group2 (10-19)  Group3 (20-49)  Group4 (50-99)  \\\n",
       "Local           5.11            4.41            3.39            2.44   \n",
       "Global          5.11            4.51            1.54            5.18   \n",
       "\n",
       "        Group5 (≥100)  Total  \n",
       "Local            4.32  19.67  \n",
       "Global           5.02  21.36  "
      ]
     },
     "execution_count": 3,
     "metadata": {},
     "output_type": "execute_result"
    }
   ],
   "source": [
    "profit_i = pd.DataFrame({\"Group1 (<10)\": {\"Local\": 5.11, \"Global\": 5.11},\n",
    "              \"Group2 (10-19)\": {\"Local\": 4.41, \"Global\": 4.51},\n",
    "              \"Group3 (20-49)\": {\"Local\": 3.39, \"Global\": 1.54},\n",
    "              \"Group4 (50-99)\": {\"Local\": 2.44, \"Global\": 5.18},\n",
    "              \"Group5 (≥100)\": {\"Local\": 4.32, \"Global\": 5.02}})\n",
    "profit_i[\"Total\"] = profit_i.sum(axis=1)\n",
    "profit_i"
   ]
  },
  {
   "cell_type": "code",
   "execution_count": 6,
   "id": "eb13a828",
   "metadata": {},
   "outputs": [
    {
     "name": "stdout",
     "output_type": "stream",
     "text": [
      "\\begin{tabular}{lrrrrrrrrrrrr}\n",
      "\\toprule\n",
      "{} &  Group1 (<10) &  Group1 (<10) &  Group2 (10-19) &  Group2 (10-19) &  Group3 (20-49) &  Group3 (20-49) &  Group4 (50-99) &  Group4 (50-99) &  Group5 (≥100) &  Group5 (≥100) &  Total &  Total \\\\\n",
      "\\midrule\n",
      "Local  &          5.11 &          5.11 &            4.54 &            4.41 &            9.40 &            3.39 &            2.52 &            2.44 &           2.21 &           4.32 &  23.78 &  19.67 \\\\\n",
      "Global &          5.00 &          5.11 &            4.04 &            4.51 &           12.76 &            1.54 &            2.52 &            5.18 &           2.23 &           5.02 &  26.55 &  21.36 \\\\\n",
      "\\bottomrule\n",
      "\\end{tabular}\n",
      "\n"
     ]
    },
    {
     "name": "stderr",
     "output_type": "stream",
     "text": [
      "C:\\Users\\wz369\\AppData\\Local\\Temp\\ipykernel_7564\\1403626567.py:1: FutureWarning: In future versions `DataFrame.to_latex` is expected to utilise the base implementation of `Styler.to_latex` for formatting and rendering. The arguments signature may therefore change. It is recommended instead to use `DataFrame.style.to_latex` which also contains additional functionality.\n",
      "  print(pd.concat([profit_f, profit_i], axis=1).sort_index(axis=1).to_latex())\n"
     ]
    }
   ],
   "source": [
    "print(pd.concat([profit_f, profit_i], axis=1).sort_index(axis=1).to_latex())"
   ]
  },
  {
   "cell_type": "markdown",
   "id": "b7b488e4",
   "metadata": {},
   "source": [
    "### Consumer Welfare by Groups"
   ]
  },
  {
   "cell_type": "code",
   "execution_count": 7,
   "id": "ed83b480",
   "metadata": {},
   "outputs": [
    {
     "data": {
      "text/html": [
       "<div>\n",
       "<style scoped>\n",
       "    .dataframe tbody tr th:only-of-type {\n",
       "        vertical-align: middle;\n",
       "    }\n",
       "\n",
       "    .dataframe tbody tr th {\n",
       "        vertical-align: top;\n",
       "    }\n",
       "\n",
       "    .dataframe thead th {\n",
       "        text-align: right;\n",
       "    }\n",
       "</style>\n",
       "<table border=\"1\" class=\"dataframe\">\n",
       "  <thead>\n",
       "    <tr style=\"text-align: right;\">\n",
       "      <th></th>\n",
       "      <th>Group1 (&lt;10)</th>\n",
       "      <th>Group2 (10-19)</th>\n",
       "      <th>Group3 (20-49)</th>\n",
       "      <th>Group4 (50-99)</th>\n",
       "      <th>Group5 (≥100)</th>\n",
       "      <th>Total</th>\n",
       "    </tr>\n",
       "  </thead>\n",
       "  <tbody>\n",
       "    <tr>\n",
       "      <th>Local</th>\n",
       "      <td>2.86</td>\n",
       "      <td>2.20</td>\n",
       "      <td>8.54</td>\n",
       "      <td>1.16</td>\n",
       "      <td>0.98</td>\n",
       "      <td>15.74</td>\n",
       "    </tr>\n",
       "    <tr>\n",
       "      <th>Global</th>\n",
       "      <td>2.28</td>\n",
       "      <td>1.23</td>\n",
       "      <td>8.06</td>\n",
       "      <td>1.09</td>\n",
       "      <td>0.98</td>\n",
       "      <td>13.64</td>\n",
       "    </tr>\n",
       "  </tbody>\n",
       "</table>\n",
       "</div>"
      ],
      "text/plain": [
       "        Group1 (<10)  Group2 (10-19)  Group3 (20-49)  Group4 (50-99)  \\\n",
       "Local           2.86            2.20            8.54            1.16   \n",
       "Global          2.28            1.23            8.06            1.09   \n",
       "\n",
       "        Group5 (≥100)  Total  \n",
       "Local            0.98  15.74  \n",
       "Global           0.98  13.64  "
      ]
     },
     "execution_count": 7,
     "metadata": {},
     "output_type": "execute_result"
    }
   ],
   "source": [
    "cs_f = pd.DataFrame({\"Group1 (<10)\": {\"Local\": 2.86, \"Global\": 2.28},\n",
    "              \"Group2 (10-19)\": {\"Local\": 2.20, \"Global\": 1.23},\n",
    "              \"Group3 (20-49)\": {\"Local\": 8.54, \"Global\": 8.06},\n",
    "              \"Group4 (50-99)\": {\"Local\": 1.16, \"Global\": 1.09},\n",
    "              \"Group5 (≥100)\": {\"Local\": 0.98, \"Global\": 0.98}})\n",
    "cs_f[\"Total\"] = cs_f.sum(axis=1)\n",
    "cs_f"
   ]
  },
  {
   "cell_type": "code",
   "execution_count": 8,
   "id": "698ad4f8",
   "metadata": {},
   "outputs": [
    {
     "data": {
      "text/html": [
       "<div>\n",
       "<style scoped>\n",
       "    .dataframe tbody tr th:only-of-type {\n",
       "        vertical-align: middle;\n",
       "    }\n",
       "\n",
       "    .dataframe tbody tr th {\n",
       "        vertical-align: top;\n",
       "    }\n",
       "\n",
       "    .dataframe thead th {\n",
       "        text-align: right;\n",
       "    }\n",
       "</style>\n",
       "<table border=\"1\" class=\"dataframe\">\n",
       "  <thead>\n",
       "    <tr style=\"text-align: right;\">\n",
       "      <th></th>\n",
       "      <th>Group1 (&lt;10)</th>\n",
       "      <th>Group2 (10-19)</th>\n",
       "      <th>Group3 (20-49)</th>\n",
       "      <th>Group4 (50-99)</th>\n",
       "      <th>Group5 (≥100)</th>\n",
       "      <th>Total</th>\n",
       "    </tr>\n",
       "  </thead>\n",
       "  <tbody>\n",
       "    <tr>\n",
       "      <th>Local</th>\n",
       "      <td>2.86</td>\n",
       "      <td>2.37</td>\n",
       "      <td>2.04</td>\n",
       "      <td>4.35</td>\n",
       "      <td>2.81</td>\n",
       "      <td>14.43</td>\n",
       "    </tr>\n",
       "    <tr>\n",
       "      <th>Global</th>\n",
       "      <td>2.85</td>\n",
       "      <td>2.37</td>\n",
       "      <td>0.42</td>\n",
       "      <td>2.82</td>\n",
       "      <td>2.68</td>\n",
       "      <td>11.14</td>\n",
       "    </tr>\n",
       "  </tbody>\n",
       "</table>\n",
       "</div>"
      ],
      "text/plain": [
       "        Group1 (<10)  Group2 (10-19)  Group3 (20-49)  Group4 (50-99)  \\\n",
       "Local           2.86            2.37            2.04            4.35   \n",
       "Global          2.85            2.37            0.42            2.82   \n",
       "\n",
       "        Group5 (≥100)  Total  \n",
       "Local            2.81  14.43  \n",
       "Global           2.68  11.14  "
      ]
     },
     "execution_count": 8,
     "metadata": {},
     "output_type": "execute_result"
    }
   ],
   "source": [
    "cs_i = pd.DataFrame({\"Group1 (<10)\": {\"Local\": 2.86, \"Global\": 2.85},\n",
    "              \"Group2 (10-19)\": {\"Local\": 2.37, \"Global\": 2.37},\n",
    "              \"Group3 (20-49)\": {\"Local\": 2.04, \"Global\": 0.42},\n",
    "              \"Group4 (50-99)\": {\"Local\": 4.35, \"Global\": 2.82},\n",
    "              \"Group5 (≥100)\": {\"Local\": 2.81, \"Global\": 2.68}})\n",
    "cs_i[\"Total\"] = cs_i.sum(axis=1)\n",
    "cs_i"
   ]
  },
  {
   "cell_type": "code",
   "execution_count": 11,
   "id": "8e6e24bf",
   "metadata": {},
   "outputs": [
    {
     "name": "stdout",
     "output_type": "stream",
     "text": [
      "\\begin{tabular}{lrrrrrrrrrrrr}\n",
      "\\toprule\n",
      "{} &  Group1 (<10) &  Group1 (<10) &  Group2 (10-19) &  Group2 (10-19) &  Group3 (20-49) &  Group3 (20-49) &  Group4 (50-99) &  Group4 (50-99) &  Group5 (≥100) &  Group5 (≥100) &  Total &  Total \\\\\n",
      "\\midrule\n",
      "Local  &          2.86 &          2.86 &            2.20 &            2.37 &            8.54 &            2.04 &            1.16 &            4.35 &           0.98 &           2.81 &  15.74 &  14.43 \\\\\n",
      "Global &          2.28 &          2.85 &            1.23 &            2.37 &            8.06 &            0.42 &            1.09 &            2.82 &           0.98 &           2.68 &  13.64 &  11.14 \\\\\n",
      "\\bottomrule\n",
      "\\end{tabular}\n",
      "\n"
     ]
    },
    {
     "name": "stderr",
     "output_type": "stream",
     "text": [
      "C:\\Users\\wz369\\AppData\\Local\\Temp\\ipykernel_7564\\1699107092.py:1: FutureWarning: In future versions `DataFrame.to_latex` is expected to utilise the base implementation of `Styler.to_latex` for formatting and rendering. The arguments signature may therefore change. It is recommended instead to use `DataFrame.style.to_latex` which also contains additional functionality.\n",
      "  print(pd.concat([cs_f, cs_i], axis=1).sort_index(axis=1).to_latex())\n"
     ]
    }
   ],
   "source": [
    "print(pd.concat([cs_f, cs_i], axis=1).sort_index(axis=1).to_latex())"
   ]
  },
  {
   "cell_type": "markdown",
   "id": "af4cf62d",
   "metadata": {},
   "source": [
    "### Social Welfare by Groups"
   ]
  },
  {
   "cell_type": "code",
   "execution_count": 12,
   "id": "6f63f7d0",
   "metadata": {},
   "outputs": [
    {
     "data": {
      "text/html": [
       "<div>\n",
       "<style scoped>\n",
       "    .dataframe tbody tr th:only-of-type {\n",
       "        vertical-align: middle;\n",
       "    }\n",
       "\n",
       "    .dataframe tbody tr th {\n",
       "        vertical-align: top;\n",
       "    }\n",
       "\n",
       "    .dataframe thead th {\n",
       "        text-align: right;\n",
       "    }\n",
       "</style>\n",
       "<table border=\"1\" class=\"dataframe\">\n",
       "  <thead>\n",
       "    <tr style=\"text-align: right;\">\n",
       "      <th></th>\n",
       "      <th>Group1 (&lt;10)</th>\n",
       "      <th>Group2 (10-19)</th>\n",
       "      <th>Group3 (20-49)</th>\n",
       "      <th>Group4 (50-99)</th>\n",
       "      <th>Group5 (≥100)</th>\n",
       "      <th>Total</th>\n",
       "    </tr>\n",
       "  </thead>\n",
       "  <tbody>\n",
       "    <tr>\n",
       "      <th>Local</th>\n",
       "      <td>7.97</td>\n",
       "      <td>6.74</td>\n",
       "      <td>17.94</td>\n",
       "      <td>3.68</td>\n",
       "      <td>3.19</td>\n",
       "      <td>39.52</td>\n",
       "    </tr>\n",
       "    <tr>\n",
       "      <th>Global</th>\n",
       "      <td>7.28</td>\n",
       "      <td>5.27</td>\n",
       "      <td>20.82</td>\n",
       "      <td>3.61</td>\n",
       "      <td>3.21</td>\n",
       "      <td>40.19</td>\n",
       "    </tr>\n",
       "  </tbody>\n",
       "</table>\n",
       "</div>"
      ],
      "text/plain": [
       "        Group1 (<10)  Group2 (10-19)  Group3 (20-49)  Group4 (50-99)  \\\n",
       "Local           7.97            6.74           17.94            3.68   \n",
       "Global          7.28            5.27           20.82            3.61   \n",
       "\n",
       "        Group5 (≥100)  Total  \n",
       "Local            3.19  39.52  \n",
       "Global           3.21  40.19  "
      ]
     },
     "execution_count": 12,
     "metadata": {},
     "output_type": "execute_result"
    }
   ],
   "source": [
    "sw_f = profit_f + cs_f\n",
    "sw_f"
   ]
  },
  {
   "cell_type": "code",
   "execution_count": 13,
   "id": "1322c9e1",
   "metadata": {},
   "outputs": [
    {
     "data": {
      "text/html": [
       "<div>\n",
       "<style scoped>\n",
       "    .dataframe tbody tr th:only-of-type {\n",
       "        vertical-align: middle;\n",
       "    }\n",
       "\n",
       "    .dataframe tbody tr th {\n",
       "        vertical-align: top;\n",
       "    }\n",
       "\n",
       "    .dataframe thead th {\n",
       "        text-align: right;\n",
       "    }\n",
       "</style>\n",
       "<table border=\"1\" class=\"dataframe\">\n",
       "  <thead>\n",
       "    <tr style=\"text-align: right;\">\n",
       "      <th></th>\n",
       "      <th>Group1 (&lt;10)</th>\n",
       "      <th>Group2 (10-19)</th>\n",
       "      <th>Group3 (20-49)</th>\n",
       "      <th>Group4 (50-99)</th>\n",
       "      <th>Group5 (≥100)</th>\n",
       "      <th>Total</th>\n",
       "    </tr>\n",
       "  </thead>\n",
       "  <tbody>\n",
       "    <tr>\n",
       "      <th>Local</th>\n",
       "      <td>7.97</td>\n",
       "      <td>6.78</td>\n",
       "      <td>5.43</td>\n",
       "      <td>6.79</td>\n",
       "      <td>7.13</td>\n",
       "      <td>34.1</td>\n",
       "    </tr>\n",
       "    <tr>\n",
       "      <th>Global</th>\n",
       "      <td>7.96</td>\n",
       "      <td>6.88</td>\n",
       "      <td>1.96</td>\n",
       "      <td>8.00</td>\n",
       "      <td>7.70</td>\n",
       "      <td>32.5</td>\n",
       "    </tr>\n",
       "  </tbody>\n",
       "</table>\n",
       "</div>"
      ],
      "text/plain": [
       "        Group1 (<10)  Group2 (10-19)  Group3 (20-49)  Group4 (50-99)  \\\n",
       "Local           7.97            6.78            5.43            6.79   \n",
       "Global          7.96            6.88            1.96            8.00   \n",
       "\n",
       "        Group5 (≥100)  Total  \n",
       "Local            7.13   34.1  \n",
       "Global           7.70   32.5  "
      ]
     },
     "execution_count": 13,
     "metadata": {},
     "output_type": "execute_result"
    }
   ],
   "source": [
    "sw_i = profit_i + cs_i\n",
    "sw_i"
   ]
  },
  {
   "cell_type": "code",
   "execution_count": 16,
   "id": "a7a40fa8",
   "metadata": {},
   "outputs": [
    {
     "name": "stdout",
     "output_type": "stream",
     "text": [
      "\\begin{tabular}{lrrrrrrrrrrrr}\n",
      "\\toprule\n",
      "{} &  Group1 (<10) &  Group1 (<10) &  Group2 (10-19) &  Group2 (10-19) &  Group3 (20-49) &  Group3 (20-49) &  Group4 (50-99) &  Group4 (50-99) &  Group5 (≥100) &  Group5 (≥100) &  Total &  Total \\\\\n",
      "\\midrule\n",
      "Local  &          7.97 &          7.97 &            6.74 &            6.78 &           17.94 &            5.43 &            3.68 &            6.79 &           3.19 &           7.13 &  39.52 &   34.1 \\\\\n",
      "Global &          7.28 &          7.96 &            5.27 &            6.88 &           20.82 &            1.96 &            3.61 &            8.00 &           3.21 &           7.70 &  40.19 &   32.5 \\\\\n",
      "\\bottomrule\n",
      "\\end{tabular}\n",
      "\n"
     ]
    },
    {
     "name": "stderr",
     "output_type": "stream",
     "text": [
      "C:\\Users\\wz369\\AppData\\Local\\Temp\\ipykernel_7564\\2057224701.py:1: FutureWarning: In future versions `DataFrame.to_latex` is expected to utilise the base implementation of `Styler.to_latex` for formatting and rendering. The arguments signature may therefore change. It is recommended instead to use `DataFrame.style.to_latex` which also contains additional functionality.\n",
      "  print(pd.concat([sw_f, sw_i], axis=1).sort_index(axis=1).to_latex())\n"
     ]
    }
   ],
   "source": [
    "print(pd.concat([sw_f, sw_i], axis=1).sort_index(axis=1).to_latex())"
   ]
  },
  {
   "cell_type": "markdown",
   "id": "cd90c465",
   "metadata": {},
   "source": [
    "### Graphs"
   ]
  },
  {
   "cell_type": "code",
   "execution_count": 17,
   "id": "5c3262a0",
   "metadata": {},
   "outputs": [],
   "source": [
    "figs = [\"f\", \"i\"]\n",
    "for Type, dfs in {\"Profit\": [profit_f, profit_i],\n",
    "                 \"Consumer Welfare\": [cs_f, cs_i],\n",
    "                 \"Social Welfare\": [sw_f, sw_i]}.items():\n",
    "    for i, df in enumerate(dfs):\n",
    "        df.reset_index(names=\"Method\", inplace=True)\n",
    "        df[\"Type\"] = Type\n",
    "        df[\"Figure\"] = figs[i]\n",
    "\n",
    "# Create dataframe for visualization\n",
    "welfare_fi = (pd.concat([profit_f, cs_f, sw_f, profit_i, cs_i, sw_i])\n",
    "                .melt(id_vars=[\"Method\", \"Type\", \"Figure\", \"Total\"],\n",
    "                      var_name=\"Group\",\n",
    "                      value_name=\"Value\"))\n",
    "welfare_fi.head()"
   ]
  },
  {
   "cell_type": "code",
   "execution_count": 19,
   "id": "28dd4a95",
   "metadata": {},
   "outputs": [
    {
     "name": "stderr",
     "output_type": "stream",
     "text": [
      "C:\\Users\\wz369\\Anaconda3\\lib\\site-packages\\seaborn\\axisgrid.py:670: UserWarning: Using the pointplot function without specifying `order` is likely to produce an incorrect plot.\n",
      "  warnings.warn(warning)\n",
      "C:\\Users\\wz369\\Anaconda3\\lib\\site-packages\\seaborn\\axisgrid.py:675: UserWarning: Using the pointplot function without specifying `hue_order` is likely to produce an incorrect plot.\n",
      "  warnings.warn(warning)\n",
      "C:\\Users\\wz369\\Anaconda3\\lib\\site-packages\\seaborn\\axisgrid.py:703: FutureWarning: iteritems is deprecated and will be removed in a future version. Use .items instead.\n",
      "  plot_args = [v for k, v in plot_data.iteritems()]\n",
      "C:\\Users\\wz369\\Anaconda3\\lib\\site-packages\\seaborn\\axisgrid.py:703: FutureWarning: iteritems is deprecated and will be removed in a future version. Use .items instead.\n",
      "  plot_args = [v for k, v in plot_data.iteritems()]\n",
      "C:\\Users\\wz369\\Anaconda3\\lib\\site-packages\\seaborn\\axisgrid.py:703: FutureWarning: iteritems is deprecated and will be removed in a future version. Use .items instead.\n",
      "  plot_args = [v for k, v in plot_data.iteritems()]\n",
      "C:\\Users\\wz369\\Anaconda3\\lib\\site-packages\\seaborn\\axisgrid.py:703: FutureWarning: iteritems is deprecated and will be removed in a future version. Use .items instead.\n",
      "  plot_args = [v for k, v in plot_data.iteritems()]\n",
      "C:\\Users\\wz369\\Anaconda3\\lib\\site-packages\\seaborn\\axisgrid.py:703: FutureWarning: iteritems is deprecated and will be removed in a future version. Use .items instead.\n",
      "  plot_args = [v for k, v in plot_data.iteritems()]\n",
      "C:\\Users\\wz369\\Anaconda3\\lib\\site-packages\\seaborn\\axisgrid.py:703: FutureWarning: iteritems is deprecated and will be removed in a future version. Use .items instead.\n",
      "  plot_args = [v for k, v in plot_data.iteritems()]\n"
     ]
    },
    {
     "data": {
      "image/png": "[encoded data removed]",
      "text/plain": [
       "<Figure size 648x432 with 6 Axes>"
      ]
     },
     "metadata": {
      "needs_background": "light"
     },
     "output_type": "display_data"
    }
   ],
   "source": [
    "%matplotlib inline\n",
    "# Pointplot\n",
    "counter_fi = sns.FacetGrid(welfare_fi, row=\"Figure\", col=\"Type\", margin_titles=True)\n",
    "counter_fi.map(sns.pointplot, \"Group\", \"Value\", \"Method\",\n",
    "              palette=\"ch:.25\",\n",
    "              legend=False)\n",
    "\n",
    "counter_fi.set_titles(col_template=\"{col_name}\", row_template=\"Fig({row_name})\")\n",
    "counter_fi.set_xticklabels(rotation=-45)\n",
    "\n",
    "plt.legend(title=\"Price Contract\");\n",
    "\n",
    "counter_fi.savefig(\"fig/counter_lc_vs_gb.svg\", dpi=400)"
   ]
  },
  {
   "cell_type": "code",
   "execution_count": null,
   "id": "3efc837a",
   "metadata": {
    "scrolled": false
   },
   "outputs": [],
   "source": []
  },
  {
   "cell_type": "markdown",
   "id": "052edf3f",
   "metadata": {},
   "source": [
    "## Comparison (3)"
   ]
  },
  {
   "cell_type": "markdown",
   "id": "0dd5a829",
   "metadata": {},
   "source": [
    "### Profit by Groups"
   ]
  },
  {
   "cell_type": "code",
   "execution_count": 42,
   "id": "d36e8f8c",
   "metadata": {},
   "outputs": [
    {
     "data": {
      "text/html": [
       "<div>\n",
       "<style scoped>\n",
       "    .dataframe tbody tr th:only-of-type {\n",
       "        vertical-align: middle;\n",
       "    }\n",
       "\n",
       "    .dataframe tbody tr th {\n",
       "        vertical-align: top;\n",
       "    }\n",
       "\n",
       "    .dataframe thead th {\n",
       "        text-align: right;\n",
       "    }\n",
       "</style>\n",
       "<table border=\"1\" class=\"dataframe\">\n",
       "  <thead>\n",
       "    <tr style=\"text-align: right;\">\n",
       "      <th></th>\n",
       "      <th>Group1 (&lt;10)</th>\n",
       "      <th>Group2 (10-19)</th>\n",
       "      <th>Group3 (20-49)</th>\n",
       "      <th>Group4 (50-99)</th>\n",
       "      <th>Group5 (≥100)</th>\n",
       "      <th>Total</th>\n",
       "    </tr>\n",
       "  </thead>\n",
       "  <tbody>\n",
       "    <tr>\n",
       "      <th>First-Degree PD</th>\n",
       "      <td>10.49</td>\n",
       "      <td>7.87</td>\n",
       "      <td>21.68</td>\n",
       "      <td>4.63</td>\n",
       "      <td>4.80</td>\n",
       "      <td>49.47</td>\n",
       "    </tr>\n",
       "    <tr>\n",
       "      <th>Linear</th>\n",
       "      <td>5.10</td>\n",
       "      <td>4.45</td>\n",
       "      <td>12.00</td>\n",
       "      <td>1.83</td>\n",
       "      <td>1.63</td>\n",
       "      <td>25.01</td>\n",
       "    </tr>\n",
       "    <tr>\n",
       "      <th>Nonlinear</th>\n",
       "      <td>5.00</td>\n",
       "      <td>4.04</td>\n",
       "      <td>12.76</td>\n",
       "      <td>2.52</td>\n",
       "      <td>2.23</td>\n",
       "      <td>26.55</td>\n",
       "    </tr>\n",
       "  </tbody>\n",
       "</table>\n",
       "</div>"
      ],
      "text/plain": [
       "                 Group1 (<10)  Group2 (10-19)  Group3 (20-49)  Group4 (50-99)  \\\n",
       "First-Degree PD         10.49            7.87           21.68            4.63   \n",
       "Linear                   5.10            4.45           12.00            1.83   \n",
       "Nonlinear                5.00            4.04           12.76            2.52   \n",
       "\n",
       "                 Group5 (≥100)  Total  \n",
       "First-Degree PD           4.80  49.47  \n",
       "Linear                    1.63  25.01  \n",
       "Nonlinear                 2.23  26.55  "
      ]
     },
     "execution_count": 42,
     "metadata": {},
     "output_type": "execute_result"
    }
   ],
   "source": [
    "profit_f3 = pd.DataFrame({\"Group1 (<10)\": {\"First-Degree PD\": 10.49, \"Linear\": 5.10, \"Nonlinear\": 5.00},\n",
    "              \"Group2 (10-19)\": {\"First-Degree PD\": 7.87, \"Linear\": 4.45, \"Nonlinear\": 4.04},\n",
    "              \"Group3 (20-49)\": {\"First-Degree PD\": 21.68, \"Linear\": 12.00, \"Nonlinear\": 12.76},\n",
    "              \"Group4 (50-99)\": {\"First-Degree PD\": 4.63, \"Linear\": 1.83, \"Nonlinear\": 2.52},\n",
    "              \"Group5 (≥100)\": {\"First-Degree PD\": 4.80, \"Linear\": 1.63, \"Nonlinear\": 2.23}})\n",
    "profit_f3[\"Total\"] = profit_f3.sum(axis=1)\n",
    "profit_f3"
   ]
  },
  {
   "cell_type": "code",
   "execution_count": 44,
   "id": "66bcb674",
   "metadata": {},
   "outputs": [
    {
     "data": {
      "text/html": [
       "<div>\n",
       "<style scoped>\n",
       "    .dataframe tbody tr th:only-of-type {\n",
       "        vertical-align: middle;\n",
       "    }\n",
       "\n",
       "    .dataframe tbody tr th {\n",
       "        vertical-align: top;\n",
       "    }\n",
       "\n",
       "    .dataframe thead th {\n",
       "        text-align: right;\n",
       "    }\n",
       "</style>\n",
       "<table border=\"1\" class=\"dataframe\">\n",
       "  <thead>\n",
       "    <tr style=\"text-align: right;\">\n",
       "      <th></th>\n",
       "      <th>Group1 (&lt;10)</th>\n",
       "      <th>Group2 (10-19)</th>\n",
       "      <th>Group3 (20-49)</th>\n",
       "      <th>Group4 (50-99)</th>\n",
       "      <th>Group5 (≥100)</th>\n",
       "      <th>Total</th>\n",
       "    </tr>\n",
       "  </thead>\n",
       "  <tbody>\n",
       "    <tr>\n",
       "      <th>First-Degree PD</th>\n",
       "      <td>10.49</td>\n",
       "      <td>7.87</td>\n",
       "      <td>6.95</td>\n",
       "      <td>8.57</td>\n",
       "      <td>9.53</td>\n",
       "      <td>43.41</td>\n",
       "    </tr>\n",
       "    <tr>\n",
       "      <th>Linear</th>\n",
       "      <td>5.08</td>\n",
       "      <td>4.48</td>\n",
       "      <td>1.48</td>\n",
       "      <td>5.09</td>\n",
       "      <td>5.21</td>\n",
       "      <td>21.34</td>\n",
       "    </tr>\n",
       "    <tr>\n",
       "      <th>Nonlinear</th>\n",
       "      <td>5.11</td>\n",
       "      <td>4.51</td>\n",
       "      <td>1.54</td>\n",
       "      <td>5.18</td>\n",
       "      <td>5.02</td>\n",
       "      <td>21.36</td>\n",
       "    </tr>\n",
       "  </tbody>\n",
       "</table>\n",
       "</div>"
      ],
      "text/plain": [
       "                 Group1 (<10)  Group2 (10-19)  Group3 (20-49)  Group4 (50-99)  \\\n",
       "First-Degree PD         10.49            7.87            6.95            8.57   \n",
       "Linear                   5.08            4.48            1.48            5.09   \n",
       "Nonlinear                5.11            4.51            1.54            5.18   \n",
       "\n",
       "                 Group5 (≥100)  Total  \n",
       "First-Degree PD           9.53  43.41  \n",
       "Linear                    5.21  21.34  \n",
       "Nonlinear                 5.02  21.36  "
      ]
     },
     "execution_count": 44,
     "metadata": {},
     "output_type": "execute_result"
    }
   ],
   "source": [
    "profit_i3 = pd.DataFrame({\"Group1 (<10)\": {\"First-Degree PD\": 10.49, \"Linear\": 5.08, \"Nonlinear\": 5.11},\n",
    "              \"Group2 (10-19)\": {\"First-Degree PD\": 7.87, \"Linear\": 4.48, \"Nonlinear\": 4.51},\n",
    "              \"Group3 (20-49)\": {\"First-Degree PD\": 6.95, \"Linear\": 1.48, \"Nonlinear\": 1.54},\n",
    "              \"Group4 (50-99)\": {\"First-Degree PD\": 8.57, \"Linear\": 5.09, \"Nonlinear\": 5.18},\n",
    "              \"Group5 (≥100)\": {\"First-Degree PD\": 9.53, \"Linear\": 5.21, \"Nonlinear\": 5.02}})\n",
    "profit_i3[\"Total\"] = profit_i3.sum(axis=1)\n",
    "profit_i3"
   ]
  },
  {
   "cell_type": "code",
   "execution_count": 45,
   "id": "0987c32d",
   "metadata": {},
   "outputs": [
    {
     "name": "stdout",
     "output_type": "stream",
     "text": [
      "\\begin{tabular}{lrrrrrrrrrrrr}\n",
      "\\toprule\n",
      "{} &  Group1 (<10) &  Group1 (<10) &  Group2 (10-19) &  Group2 (10-19) &  Group3 (20-49) &  Group3 (20-49) &  Group4 (50-99) &  Group4 (50-99) &  Group5 (≥100) &  Group5 (≥100) &  Total &  Total \\\\\n",
      "\\midrule\n",
      "First-Degree PD &         10.49 &         10.49 &            7.87 &            7.87 &           21.68 &            6.95 &            4.63 &            8.57 &           4.80 &           9.53 &  49.47 &  43.41 \\\\\n",
      "Linear          &          5.10 &          5.08 &            4.45 &            4.48 &           12.00 &            1.48 &            1.83 &            5.09 &           1.63 &           5.21 &  25.01 &  21.34 \\\\\n",
      "Nonlinear       &          5.00 &          5.11 &            4.04 &            4.51 &           12.76 &            1.54 &            2.52 &            5.18 &           2.23 &           5.02 &  26.55 &  21.36 \\\\\n",
      "\\bottomrule\n",
      "\\end{tabular}\n",
      "\n"
     ]
    },
    {
     "name": "stderr",
     "output_type": "stream",
     "text": [
      "C:\\Users\\wz369\\AppData\\Local\\Temp\\ipykernel_7564\\2131471487.py:1: FutureWarning: In future versions `DataFrame.to_latex` is expected to utilise the base implementation of `Styler.to_latex` for formatting and rendering. The arguments signature may therefore change. It is recommended instead to use `DataFrame.style.to_latex` which also contains additional functionality.\n",
      "  print(pd.concat([profit_f3, profit_i3], axis=1).sort_index(axis=1).to_latex())\n"
     ]
    }
   ],
   "source": [
    "print(pd.concat([profit_f3, profit_i3], axis=1).sort_index(axis=1).to_latex())"
   ]
  },
  {
   "cell_type": "code",
   "execution_count": null,
   "id": "0f0345c9",
   "metadata": {},
   "outputs": [],
   "source": []
  },
  {
   "cell_type": "markdown",
   "id": "1b174250",
   "metadata": {},
   "source": [
    "### Consumer Welfare by Groups"
   ]
  },
  {
   "cell_type": "code",
   "execution_count": 43,
   "id": "0e4cb220",
   "metadata": {},
   "outputs": [
    {
     "data": {
      "text/html": [
       "<div>\n",
       "<style scoped>\n",
       "    .dataframe tbody tr th:only-of-type {\n",
       "        vertical-align: middle;\n",
       "    }\n",
       "\n",
       "    .dataframe tbody tr th {\n",
       "        vertical-align: top;\n",
       "    }\n",
       "\n",
       "    .dataframe thead th {\n",
       "        text-align: right;\n",
       "    }\n",
       "</style>\n",
       "<table border=\"1\" class=\"dataframe\">\n",
       "  <thead>\n",
       "    <tr style=\"text-align: right;\">\n",
       "      <th></th>\n",
       "      <th>Group1 (&lt;10)</th>\n",
       "      <th>Group2 (10-19)</th>\n",
       "      <th>Group3 (20-49)</th>\n",
       "      <th>Group4 (50-99)</th>\n",
       "      <th>Group5 (≥100)</th>\n",
       "      <th>Total</th>\n",
       "    </tr>\n",
       "  </thead>\n",
       "  <tbody>\n",
       "    <tr>\n",
       "      <th>First-Degree PD</th>\n",
       "      <td>0.00</td>\n",
       "      <td>0.00</td>\n",
       "      <td>0.00</td>\n",
       "      <td>0.00</td>\n",
       "      <td>0.00</td>\n",
       "      <td>0.00</td>\n",
       "    </tr>\n",
       "    <tr>\n",
       "      <th>Linear</th>\n",
       "      <td>3.00</td>\n",
       "      <td>1.71</td>\n",
       "      <td>9.36</td>\n",
       "      <td>0.42</td>\n",
       "      <td>0.38</td>\n",
       "      <td>14.87</td>\n",
       "    </tr>\n",
       "    <tr>\n",
       "      <th>Nonlinear</th>\n",
       "      <td>2.28</td>\n",
       "      <td>1.23</td>\n",
       "      <td>8.06</td>\n",
       "      <td>1.09</td>\n",
       "      <td>0.98</td>\n",
       "      <td>13.64</td>\n",
       "    </tr>\n",
       "  </tbody>\n",
       "</table>\n",
       "</div>"
      ],
      "text/plain": [
       "                 Group1 (<10)  Group2 (10-19)  Group3 (20-49)  Group4 (50-99)  \\\n",
       "First-Degree PD          0.00            0.00            0.00            0.00   \n",
       "Linear                   3.00            1.71            9.36            0.42   \n",
       "Nonlinear                2.28            1.23            8.06            1.09   \n",
       "\n",
       "                 Group5 (≥100)  Total  \n",
       "First-Degree PD           0.00   0.00  \n",
       "Linear                    0.38  14.87  \n",
       "Nonlinear                 0.98  13.64  "
      ]
     },
     "execution_count": 43,
     "metadata": {},
     "output_type": "execute_result"
    }
   ],
   "source": [
    "cs_f3 = pd.DataFrame({\"Group1 (<10)\": {\"First-Degree PD\": 0, \"Linear\": 3.00, \"Nonlinear\": 2.28},\n",
    "              \"Group2 (10-19)\": {\"First-Degree PD\": 0, \"Linear\": 1.71, \"Nonlinear\": 1.23},\n",
    "              \"Group3 (20-49)\": {\"First-Degree PD\": 0, \"Linear\": 9.36, \"Nonlinear\": 8.06},\n",
    "              \"Group4 (50-99)\": {\"First-Degree PD\": 0, \"Linear\": 0.42, \"Nonlinear\": 1.09},\n",
    "              \"Group5 (≥100)\": {\"First-Degree PD\": 0, \"Linear\": 0.38, \"Nonlinear\": 0.98}})\n",
    "cs_f3[\"Total\"] = cs_f3.sum(axis=1)\n",
    "cs_f3"
   ]
  },
  {
   "cell_type": "code",
   "execution_count": 46,
   "id": "b1c0863b",
   "metadata": {},
   "outputs": [
    {
     "data": {
      "text/html": [
       "<div>\n",
       "<style scoped>\n",
       "    .dataframe tbody tr th:only-of-type {\n",
       "        vertical-align: middle;\n",
       "    }\n",
       "\n",
       "    .dataframe tbody tr th {\n",
       "        vertical-align: top;\n",
       "    }\n",
       "\n",
       "    .dataframe thead th {\n",
       "        text-align: right;\n",
       "    }\n",
       "</style>\n",
       "<table border=\"1\" class=\"dataframe\">\n",
       "  <thead>\n",
       "    <tr style=\"text-align: right;\">\n",
       "      <th></th>\n",
       "      <th>Group1 (&lt;10)</th>\n",
       "      <th>Group2 (10-19)</th>\n",
       "      <th>Group3 (20-49)</th>\n",
       "      <th>Group4 (50-99)</th>\n",
       "      <th>Group5 (≥100)</th>\n",
       "      <th>Total</th>\n",
       "    </tr>\n",
       "  </thead>\n",
       "  <tbody>\n",
       "    <tr>\n",
       "      <th>First-Degree PD</th>\n",
       "      <td>0.00</td>\n",
       "      <td>0.00</td>\n",
       "      <td>0.00</td>\n",
       "      <td>0.00</td>\n",
       "      <td>0.00</td>\n",
       "      <td>0.00</td>\n",
       "    </tr>\n",
       "    <tr>\n",
       "      <th>Linear</th>\n",
       "      <td>3.09</td>\n",
       "      <td>1.76</td>\n",
       "      <td>0.34</td>\n",
       "      <td>3.13</td>\n",
       "      <td>2.79</td>\n",
       "      <td>11.11</td>\n",
       "    </tr>\n",
       "    <tr>\n",
       "      <th>Nonlinear</th>\n",
       "      <td>2.85</td>\n",
       "      <td>2.37</td>\n",
       "      <td>0.42</td>\n",
       "      <td>2.82</td>\n",
       "      <td>2.68</td>\n",
       "      <td>11.14</td>\n",
       "    </tr>\n",
       "  </tbody>\n",
       "</table>\n",
       "</div>"
      ],
      "text/plain": [
       "                 Group1 (<10)  Group2 (10-19)  Group3 (20-49)  Group4 (50-99)  \\\n",
       "First-Degree PD          0.00            0.00            0.00            0.00   \n",
       "Linear                   3.09            1.76            0.34            3.13   \n",
       "Nonlinear                2.85            2.37            0.42            2.82   \n",
       "\n",
       "                 Group5 (≥100)  Total  \n",
       "First-Degree PD           0.00   0.00  \n",
       "Linear                    2.79  11.11  \n",
       "Nonlinear                 2.68  11.14  "
      ]
     },
     "execution_count": 46,
     "metadata": {},
     "output_type": "execute_result"
    }
   ],
   "source": [
    "cs_i3 = pd.DataFrame({\"Group1 (<10)\": {\"First-Degree PD\": 0, \"Linear\": 3.09, \"Nonlinear\": 2.85},\n",
    "              \"Group2 (10-19)\": {\"First-Degree PD\": 0, \"Linear\": 1.76, \"Nonlinear\": 2.37},\n",
    "              \"Group3 (20-49)\": {\"First-Degree PD\": 0, \"Linear\": 0.34, \"Nonlinear\": 0.42},\n",
    "              \"Group4 (50-99)\": {\"First-Degree PD\": 0, \"Linear\": 3.13, \"Nonlinear\": 2.82},\n",
    "              \"Group5 (≥100)\": {\"First-Degree PD\": 0, \"Linear\": 2.79, \"Nonlinear\": 2.68}})\n",
    "cs_i3[\"Total\"] = cs_i3.sum(axis=1)\n",
    "cs_i3"
   ]
  },
  {
   "cell_type": "code",
   "execution_count": 47,
   "id": "52f80b08",
   "metadata": {},
   "outputs": [
    {
     "name": "stdout",
     "output_type": "stream",
     "text": [
      "\\begin{tabular}{lrrrrrrrrrrrr}\n",
      "\\toprule\n",
      "{} &  Group1 (<10) &  Group1 (<10) &  Group2 (10-19) &  Group2 (10-19) &  Group3 (20-49) &  Group3 (20-49) &  Group4 (50-99) &  Group4 (50-99) &  Group5 (≥100) &  Group5 (≥100) &  Total &  Total \\\\\n",
      "\\midrule\n",
      "First-Degree PD &          0.00 &          0.00 &            0.00 &            0.00 &            0.00 &            0.00 &            0.00 &            0.00 &           0.00 &           0.00 &   0.00 &   0.00 \\\\\n",
      "Linear          &          3.00 &          3.09 &            1.71 &            1.76 &            9.36 &            0.34 &            0.42 &            3.13 &           0.38 &           2.79 &  14.87 &  11.11 \\\\\n",
      "Nonlinear       &          2.28 &          2.85 &            1.23 &            2.37 &            8.06 &            0.42 &            1.09 &            2.82 &           0.98 &           2.68 &  13.64 &  11.14 \\\\\n",
      "\\bottomrule\n",
      "\\end{tabular}\n",
      "\n"
     ]
    },
    {
     "name": "stderr",
     "output_type": "stream",
     "text": [
      "C:\\Users\\wz369\\AppData\\Local\\Temp\\ipykernel_7564\\3349353040.py:1: FutureWarning: In future versions `DataFrame.to_latex` is expected to utilise the base implementation of `Styler.to_latex` for formatting and rendering. The arguments signature may therefore change. It is recommended instead to use `DataFrame.style.to_latex` which also contains additional functionality.\n",
      "  print(pd.concat([cs_f3, cs_i3], axis=1).sort_index(axis=1).to_latex())\n"
     ]
    }
   ],
   "source": [
    "print(pd.concat([cs_f3, cs_i3], axis=1).sort_index(axis=1).to_latex())"
   ]
  },
  {
   "cell_type": "markdown",
   "id": "646ddbf0",
   "metadata": {},
   "source": [
    "### Social Welfare by Groups"
   ]
  },
  {
   "cell_type": "code",
   "execution_count": 48,
   "id": "ae94405c",
   "metadata": {},
   "outputs": [
    {
     "name": "stdout",
     "output_type": "stream",
     "text": [
      "\\begin{tabular}{lrrrrrrrrrrrr}\n",
      "\\toprule\n",
      "{} &  Group1 (<10) &  Group1 (<10) &  Group2 (10-19) &  Group2 (10-19) &  Group3 (20-49) &  Group3 (20-49) &  Group4 (50-99) &  Group4 (50-99) &  Group5 (≥100) &  Group5 (≥100) &  Total &  Total \\\\\n",
      "\\midrule\n",
      "First-Degree PD &         10.49 &         10.49 &            7.87 &            7.87 &           21.68 &            6.95 &            4.63 &            8.57 &           4.80 &           9.53 &  49.47 &  43.41 \\\\\n",
      "Linear          &          8.10 &          8.17 &            6.16 &            6.24 &           21.36 &            1.82 &            2.25 &            8.22 &           2.01 &           8.00 &  39.88 &  32.45 \\\\\n",
      "Nonlinear       &          7.28 &          7.96 &            5.27 &            6.88 &           20.82 &            1.96 &            3.61 &            8.00 &           3.21 &           7.70 &  40.19 &  32.50 \\\\\n",
      "\\bottomrule\n",
      "\\end{tabular}\n",
      "\n"
     ]
    },
    {
     "name": "stderr",
     "output_type": "stream",
     "text": [
      "C:\\Users\\wz369\\AppData\\Local\\Temp\\ipykernel_7564\\1990454659.py:3: FutureWarning: In future versions `DataFrame.to_latex` is expected to utilise the base implementation of `Styler.to_latex` for formatting and rendering. The arguments signature may therefore change. It is recommended instead to use `DataFrame.style.to_latex` which also contains additional functionality.\n",
      "  print(pd.concat([sw_f3, sw_i3], axis=1).sort_index(axis=1).to_latex())\n"
     ]
    }
   ],
   "source": [
    "sw_f3 = profit_f3 + cs_f3\n",
    "sw_i3 = profit_i3 + cs_i3\n",
    "print(pd.concat([sw_f3, sw_i3], axis=1).sort_index(axis=1).to_latex())"
   ]
  },
  {
   "cell_type": "markdown",
   "id": "f8df7c31",
   "metadata": {},
   "source": [
    "### Graph"
   ]
  },
  {
   "cell_type": "code",
   "execution_count": 49,
   "id": "2af24b62",
   "metadata": {},
   "outputs": [
    {
     "data": {
      "text/html": [
       "<div>\n",
       "<style scoped>\n",
       "    .dataframe tbody tr th:only-of-type {\n",
       "        vertical-align: middle;\n",
       "    }\n",
       "\n",
       "    .dataframe tbody tr th {\n",
       "        vertical-align: top;\n",
       "    }\n",
       "\n",
       "    .dataframe thead th {\n",
       "        text-align: right;\n",
       "    }\n",
       "</style>\n",
       "<table border=\"1\" class=\"dataframe\">\n",
       "  <thead>\n",
       "    <tr style=\"text-align: right;\">\n",
       "      <th></th>\n",
       "      <th>Method</th>\n",
       "      <th>Type</th>\n",
       "      <th>Figure</th>\n",
       "      <th>Total</th>\n",
       "      <th>Group</th>\n",
       "      <th>Value</th>\n",
       "    </tr>\n",
       "  </thead>\n",
       "  <tbody>\n",
       "    <tr>\n",
       "      <th>0</th>\n",
       "      <td>First-Degree PD</td>\n",
       "      <td>Profit</td>\n",
       "      <td>f</td>\n",
       "      <td>49.47</td>\n",
       "      <td>Group1 (&lt;10)</td>\n",
       "      <td>10.49</td>\n",
       "    </tr>\n",
       "    <tr>\n",
       "      <th>1</th>\n",
       "      <td>Linear</td>\n",
       "      <td>Profit</td>\n",
       "      <td>f</td>\n",
       "      <td>25.01</td>\n",
       "      <td>Group1 (&lt;10)</td>\n",
       "      <td>5.10</td>\n",
       "    </tr>\n",
       "    <tr>\n",
       "      <th>2</th>\n",
       "      <td>Nonlinear</td>\n",
       "      <td>Profit</td>\n",
       "      <td>f</td>\n",
       "      <td>26.55</td>\n",
       "      <td>Group1 (&lt;10)</td>\n",
       "      <td>5.00</td>\n",
       "    </tr>\n",
       "    <tr>\n",
       "      <th>3</th>\n",
       "      <td>First-Degree PD</td>\n",
       "      <td>Consumer Welfare</td>\n",
       "      <td>f</td>\n",
       "      <td>0.00</td>\n",
       "      <td>Group1 (&lt;10)</td>\n",
       "      <td>0.00</td>\n",
       "    </tr>\n",
       "    <tr>\n",
       "      <th>4</th>\n",
       "      <td>Linear</td>\n",
       "      <td>Consumer Welfare</td>\n",
       "      <td>f</td>\n",
       "      <td>14.87</td>\n",
       "      <td>Group1 (&lt;10)</td>\n",
       "      <td>3.00</td>\n",
       "    </tr>\n",
       "  </tbody>\n",
       "</table>\n",
       "</div>"
      ],
      "text/plain": [
       "            Method              Type Figure  Total         Group  Value\n",
       "0  First-Degree PD            Profit      f  49.47  Group1 (<10)  10.49\n",
       "1           Linear            Profit      f  25.01  Group1 (<10)   5.10\n",
       "2        Nonlinear            Profit      f  26.55  Group1 (<10)   5.00\n",
       "3  First-Degree PD  Consumer Welfare      f   0.00  Group1 (<10)   0.00\n",
       "4           Linear  Consumer Welfare      f  14.87  Group1 (<10)   3.00"
      ]
     },
     "execution_count": 49,
     "metadata": {},
     "output_type": "execute_result"
    }
   ],
   "source": [
    "figs = [\"f\", \"i\"]\n",
    "for Type, dfs in {\"Profit\": [profit_f3, profit_i3],\n",
    "                 \"Consumer Welfare\": [cs_f3, cs_i3],\n",
    "                 \"Social Welfare\": [sw_f3, sw_i3]}.items():\n",
    "    for i, df in enumerate(dfs):\n",
    "        df.reset_index(names=\"Method\", inplace=True)\n",
    "        df[\"Type\"] = Type\n",
    "        df[\"Figure\"] = figs[i]\n",
    "\n",
    "# Create dataframe for visualization\n",
    "welfare_fi3 = (pd.concat([profit_f3, cs_f3, sw_f3, profit_i3, cs_i3, sw_i3])\n",
    "                .melt(id_vars=[\"Method\", \"Type\", \"Figure\", \"Total\"],\n",
    "                      var_name=\"Group\",\n",
    "                      value_name=\"Value\"))\n",
    "welfare_fi3.head()"
   ]
  },
  {
   "cell_type": "code",
   "execution_count": 51,
   "id": "6b4a903d",
   "metadata": {},
   "outputs": [
    {
     "name": "stderr",
     "output_type": "stream",
     "text": [
      "C:\\Users\\wz369\\Anaconda3\\lib\\site-packages\\seaborn\\axisgrid.py:670: UserWarning: Using the pointplot function without specifying `order` is likely to produce an incorrect plot.\n",
      "  warnings.warn(warning)\n",
      "C:\\Users\\wz369\\Anaconda3\\lib\\site-packages\\seaborn\\axisgrid.py:675: UserWarning: Using the pointplot function without specifying `hue_order` is likely to produce an incorrect plot.\n",
      "  warnings.warn(warning)\n",
      "C:\\Users\\wz369\\Anaconda3\\lib\\site-packages\\seaborn\\axisgrid.py:703: FutureWarning: iteritems is deprecated and will be removed in a future version. Use .items instead.\n",
      "  plot_args = [v for k, v in plot_data.iteritems()]\n",
      "C:\\Users\\wz369\\Anaconda3\\lib\\site-packages\\seaborn\\axisgrid.py:703: FutureWarning: iteritems is deprecated and will be removed in a future version. Use .items instead.\n",
      "  plot_args = [v for k, v in plot_data.iteritems()]\n",
      "C:\\Users\\wz369\\Anaconda3\\lib\\site-packages\\seaborn\\axisgrid.py:703: FutureWarning: iteritems is deprecated and will be removed in a future version. Use .items instead.\n",
      "  plot_args = [v for k, v in plot_data.iteritems()]\n",
      "C:\\Users\\wz369\\Anaconda3\\lib\\site-packages\\seaborn\\axisgrid.py:703: FutureWarning: iteritems is deprecated and will be removed in a future version. Use .items instead.\n",
      "  plot_args = [v for k, v in plot_data.iteritems()]\n",
      "C:\\Users\\wz369\\Anaconda3\\lib\\site-packages\\seaborn\\axisgrid.py:703: FutureWarning: iteritems is deprecated and will be removed in a future version. Use .items instead.\n",
      "  plot_args = [v for k, v in plot_data.iteritems()]\n",
      "C:\\Users\\wz369\\Anaconda3\\lib\\site-packages\\seaborn\\axisgrid.py:703: FutureWarning: iteritems is deprecated and will be removed in a future version. Use .items instead.\n",
      "  plot_args = [v for k, v in plot_data.iteritems()]\n"
     ]
    },
    {
     "data": {
      "image/png": "[encoded data removed]",
      "text/plain": [
       "<Figure size 648x432 with 6 Axes>"
      ]
     },
     "metadata": {
      "needs_background": "light"
     },
     "output_type": "display_data"
    }
   ],
   "source": [
    "%matplotlib inline\n",
    "# Pointplot\n",
    "counter_fi3 = sns.FacetGrid(welfare_fi3, row=\"Figure\", col=\"Type\", margin_titles=True)\n",
    "counter_fi3.map(sns.pointplot, \"Group\", \"Value\", \"Method\",\n",
    "              palette=\"ch:.25\",\n",
    "              legend=False)\n",
    "\n",
    "counter_fi3.set_titles(col_template=\"{col_name}\", row_template=\"Fig({row_name})\")\n",
    "counter_fi3.set_xticklabels(rotation=-45)\n",
    "\n",
    "plt.legend(title=\"Price Contract\");\n",
    "\n",
    "counter_fi3.savefig(\"fig/counter_comparison3.svg\", dpi=400)"
   ]
  },
  {
   "cell_type": "code",
   "execution_count": null,
   "id": "9e8b5452",
   "metadata": {},
   "outputs": [],
   "source": []
  }
 ],
 "metadata": {
  "kernelspec": {
   "display_name": "Python 3 (ipykernel)",
   "language": "python",
   "name": "python3"
  },
  "language_info": {
   "codemirror_mode": {
    "name": "ipython",
    "version": 3
   },
   "file_extension": ".py",
   "mimetype": "text/x-python",
   "name": "python",
   "nbconvert_exporter": "python",
   "pygments_lexer": "ipython3",
   "version": "3.9.12"
  }
 },
 "nbformat": 4,
 "nbformat_minor": 5
}
