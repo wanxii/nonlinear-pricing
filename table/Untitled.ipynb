{
 "cells": [
  {
   "cell_type": "code",
   "execution_count": 1,
   "id": "510d137d",
   "metadata": {},
   "outputs": [],
   "source": [
    "import pandas as pd"
   ]
  },
  {
   "cell_type": "code",
   "execution_count": 8,
   "id": "31cc503e",
   "metadata": {},
   "outputs": [
    {
     "data": {
      "text/html": [
       "<div>\n",
       "<style scoped>\n",
       "    .dataframe tbody tr th:only-of-type {\n",
       "        vertical-align: middle;\n",
       "    }\n",
       "\n",
       "    .dataframe tbody tr th {\n",
       "        vertical-align: top;\n",
       "    }\n",
       "\n",
       "    .dataframe thead th {\n",
       "        text-align: right;\n",
       "    }\n",
       "</style>\n",
       "<table border=\"1\" class=\"dataframe\">\n",
       "  <thead>\n",
       "    <tr style=\"text-align: right;\">\n",
       "      <th></th>\n",
       "      <th>Small (&lt;20)</th>\n",
       "      <th>Medium (20-49)</th>\n",
       "      <th>Large (≥50)</th>\n",
       "    </tr>\n",
       "  </thead>\n",
       "  <tbody>\n",
       "    <tr>\n",
       "      <th>Current</th>\n",
       "      <td>9.07</td>\n",
       "      <td>4.81</td>\n",
       "      <td>4.38</td>\n",
       "    </tr>\n",
       "    <tr>\n",
       "      <th>First-Degree PD</th>\n",
       "      <td>1.00</td>\n",
       "      <td>1.00</td>\n",
       "      <td>1.00</td>\n",
       "    </tr>\n",
       "    <tr>\n",
       "      <th>Linear</th>\n",
       "      <td>1.00</td>\n",
       "      <td>1.00</td>\n",
       "      <td>1.00</td>\n",
       "    </tr>\n",
       "    <tr>\n",
       "      <th>Nonlinear</th>\n",
       "      <td>9.57</td>\n",
       "      <td>5.65</td>\n",
       "      <td>4.98</td>\n",
       "    </tr>\n",
       "  </tbody>\n",
       "</table>\n",
       "</div>"
      ],
      "text/plain": [
       "                 Small (<20)  Medium (20-49)  Large (≥50)\n",
       "Current                 9.07            4.81         4.38\n",
       "First-Degree PD         1.00            1.00         1.00\n",
       "Linear                  1.00            1.00         1.00\n",
       "Nonlinear               9.57            5.65         4.98"
      ]
     },
     "execution_count": 8,
     "metadata": {},
     "output_type": "execute_result"
    }
   ],
   "source": [
    "# Profits\n",
    "pd.DataFrame({\"Small (<20)\": {\"Current\": 9.07, \"First-Degree PD\": 1, \"Linear\": 1, \"Nonlinear\": 9.57},\n",
    "              \"Medium (20-49)\": {\"Current\": 4.81, \"First-Degree PD\": 1, \"Linear\": 1, \"Nonlinear\": 5.65},\n",
    "              \"Large (≥50)\": {\"Current\": 4.38, \"First-Degree PD\": 1, \"Linear\": 1, \"Nonlinear\": 4.98}})"
   ]
  },
  {
   "cell_type": "code",
   "execution_count": null,
   "id": "e2d22e9e",
   "metadata": {},
   "outputs": [],
   "source": []
  }
 ],
 "metadata": {
  "kernelspec": {
   "display_name": "Python 3 (ipykernel)",
   "language": "python",
   "name": "python3"
  },
  "language_info": {
   "codemirror_mode": {
    "name": "ipython",
    "version": 3
   },
   "file_extension": ".py",
   "mimetype": "text/x-python",
   "name": "python",
   "nbconvert_exporter": "python",
   "pygments_lexer": "ipython3",
   "version": "3.9.12"
  }
 },
 "nbformat": 4,
 "nbformat_minor": 5
}
