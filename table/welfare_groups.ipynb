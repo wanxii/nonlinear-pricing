{
 "cells": [
  {
   "cell_type": "code",
   "execution_count": 1,
   "id": "c9d54c0f",
   "metadata": {},
   "outputs": [],
   "source": [
    "import pandas as pd"
   ]
  },
  {
   "cell_type": "code",
   "execution_count": 31,
   "id": "9da8dec4",
   "metadata": {},
   "outputs": [
    {
     "data": {
      "text/html": [
       "<div>\n",
       "<style scoped>\n",
       "    .dataframe tbody tr th:only-of-type {\n",
       "        vertical-align: middle;\n",
       "    }\n",
       "\n",
       "    .dataframe tbody tr th {\n",
       "        vertical-align: top;\n",
       "    }\n",
       "\n",
       "    .dataframe thead th {\n",
       "        text-align: right;\n",
       "    }\n",
       "</style>\n",
       "<table border=\"1\" class=\"dataframe\">\n",
       "  <thead>\n",
       "    <tr style=\"text-align: right;\">\n",
       "      <th></th>\n",
       "      <th>Small (&lt;20)</th>\n",
       "      <th>Medium (20-49)</th>\n",
       "      <th>Large (≥50)</th>\n",
       "      <th>Sum</th>\n",
       "    </tr>\n",
       "  </thead>\n",
       "  <tbody>\n",
       "    <tr>\n",
       "      <th>Current</th>\n",
       "      <td>9.07</td>\n",
       "      <td>4.81</td>\n",
       "      <td>4.38</td>\n",
       "      <td>18.26</td>\n",
       "    </tr>\n",
       "    <tr>\n",
       "      <th>First-Degree PD</th>\n",
       "      <td>18.35</td>\n",
       "      <td>10.50</td>\n",
       "      <td>9.93</td>\n",
       "      <td>38.78</td>\n",
       "    </tr>\n",
       "    <tr>\n",
       "      <th>Linear</th>\n",
       "      <td>9.15</td>\n",
       "      <td>5.15</td>\n",
       "      <td>4.41</td>\n",
       "      <td>18.71</td>\n",
       "    </tr>\n",
       "    <tr>\n",
       "      <th>Nonlinear</th>\n",
       "      <td>9.57</td>\n",
       "      <td>5.65</td>\n",
       "      <td>4.98</td>\n",
       "      <td>20.20</td>\n",
       "    </tr>\n",
       "  </tbody>\n",
       "</table>\n",
       "</div>"
      ],
      "text/plain": [
       "                 Small (<20)  Medium (20-49)  Large (≥50)    Sum\n",
       "Current                 9.07            4.81         4.38  18.26\n",
       "First-Degree PD        18.35           10.50         9.93  38.78\n",
       "Linear                  9.15            5.15         4.41  18.71\n",
       "Nonlinear               9.57            5.65         4.98  20.20"
      ]
     },
     "execution_count": 31,
     "metadata": {},
     "output_type": "execute_result"
    }
   ],
   "source": [
    "# Profits\n",
    "profit3_df = pd.DataFrame({\"Small (<20)\": {\"Current\": 9.07, \"First-Degree PD\": 18.35, \"Linear\": 9.15, \"Nonlinear\": 9.57},\n",
    "              \"Medium (20-49)\": {\"Current\": 4.81, \"First-Degree PD\": 10.50, \"Linear\": 5.15, \"Nonlinear\": 5.65},\n",
    "              \"Large (≥50)\": {\"Current\": 4.38, \"First-Degree PD\": 9.93, \"Linear\": 4.41, \"Nonlinear\": 4.98}})\n",
    "profit3_df[\"Sum\"] = profit3_df.sum(axis=1)\n",
    "profit3_df"
   ]
  },
  {
   "cell_type": "code",
   "execution_count": 26,
   "id": "e2bd8d63",
   "metadata": {},
   "outputs": [
    {
     "name": "stdout",
     "output_type": "stream",
     "text": [
      "\\begin{tabular}{lrrr}\n",
      "\\toprule\n",
      "{} &  Small (<20) &  Medium (20-49) &  Large (≥50) \\\\\n",
      "\\midrule\n",
      "Current         &         9.07 &            4.81 &         4.38 \\\\\n",
      "First-Degree PD &        18.35 &           10.50 &         9.93 \\\\\n",
      "Linear          &         9.15 &            5.15 &         4.41 \\\\\n",
      "Nonlinear       &         9.57 &            5.65 &         4.98 \\\\\n",
      "\\bottomrule\n",
      "\\end{tabular}\n",
      "\n"
     ]
    },
    {
     "name": "stderr",
     "output_type": "stream",
     "text": [
      "C:\\Users\\wz369\\AppData\\Local\\Temp\\ipykernel_13832\\147725666.py:1: FutureWarning: In future versions `DataFrame.to_latex` is expected to utilise the base implementation of `Styler.to_latex` for formatting and rendering. The arguments signature may therefore change. It is recommended instead to use `DataFrame.style.to_latex` which also contains additional functionality.\n",
      "  print(profit3_df.to_latex())\n"
     ]
    }
   ],
   "source": [
    "print(profit3_df.to_latex())"
   ]
  },
  {
   "cell_type": "code",
   "execution_count": 35,
   "id": "6072ede9",
   "metadata": {},
   "outputs": [
    {
     "data": {
      "text/html": [
       "<div>\n",
       "<style scoped>\n",
       "    .dataframe tbody tr th:only-of-type {\n",
       "        vertical-align: middle;\n",
       "    }\n",
       "\n",
       "    .dataframe tbody tr th {\n",
       "        vertical-align: top;\n",
       "    }\n",
       "\n",
       "    .dataframe thead th {\n",
       "        text-align: right;\n",
       "    }\n",
       "</style>\n",
       "<table border=\"1\" class=\"dataframe\">\n",
       "  <thead>\n",
       "    <tr style=\"text-align: right;\">\n",
       "      <th></th>\n",
       "      <th>Group1 (&lt;10)</th>\n",
       "      <th>Group2 (10-19)</th>\n",
       "      <th>Group3 (20-49)</th>\n",
       "      <th>Group4 (50-99)</th>\n",
       "      <th>Group5 (100-200)</th>\n",
       "      <th>Group6 (≥200)</th>\n",
       "      <th>Sum</th>\n",
       "    </tr>\n",
       "  </thead>\n",
       "  <tbody>\n",
       "    <tr>\n",
       "      <th>Current</th>\n",
       "      <td>4.82</td>\n",
       "      <td>4.25</td>\n",
       "      <td>4.81</td>\n",
       "      <td>2.22</td>\n",
       "      <td>1.72</td>\n",
       "      <td>0.44</td>\n",
       "      <td>18.26</td>\n",
       "    </tr>\n",
       "    <tr>\n",
       "      <th>First-Degree PD</th>\n",
       "      <td>10.47</td>\n",
       "      <td>7.88</td>\n",
       "      <td>10.50</td>\n",
       "      <td>4.66</td>\n",
       "      <td>3.62</td>\n",
       "      <td>1.65</td>\n",
       "      <td>38.78</td>\n",
       "    </tr>\n",
       "    <tr>\n",
       "      <th>Linear</th>\n",
       "      <td>4.71</td>\n",
       "      <td>4.44</td>\n",
       "      <td>5.15</td>\n",
       "      <td>2.26</td>\n",
       "      <td>1.72</td>\n",
       "      <td>0.43</td>\n",
       "      <td>18.71</td>\n",
       "    </tr>\n",
       "    <tr>\n",
       "      <th>Nonlinear</th>\n",
       "      <td>5.09</td>\n",
       "      <td>4.48</td>\n",
       "      <td>5.65</td>\n",
       "      <td>2.64</td>\n",
       "      <td>1.80</td>\n",
       "      <td>0.53</td>\n",
       "      <td>20.19</td>\n",
       "    </tr>\n",
       "  </tbody>\n",
       "</table>\n",
       "</div>"
      ],
      "text/plain": [
       "                 Group1 (<10)  Group2 (10-19)  Group3 (20-49)  Group4 (50-99)  \\\n",
       "Current                  4.82            4.25            4.81            2.22   \n",
       "First-Degree PD         10.47            7.88           10.50            4.66   \n",
       "Linear                   4.71            4.44            5.15            2.26   \n",
       "Nonlinear                5.09            4.48            5.65            2.64   \n",
       "\n",
       "                 Group5 (100-200)  Group6 (≥200)    Sum  \n",
       "Current                      1.72           0.44  18.26  \n",
       "First-Degree PD              3.62           1.65  38.78  \n",
       "Linear                       1.72           0.43  18.71  \n",
       "Nonlinear                    1.80           0.53  20.19  "
      ]
     },
     "execution_count": 35,
     "metadata": {},
     "output_type": "execute_result"
    }
   ],
   "source": [
    "profit5_df = pd.DataFrame({\"Group1 (<10)\": {\"Current\": 4.82, \"First-Degree PD\": 10.47, \"Linear\": 4.71, \"Nonlinear\": 5.09},\n",
    "              \"Group2 (10-19)\": {\"Current\": 4.25, \"First-Degree PD\": 7.88, \"Linear\": 4.44, \"Nonlinear\": 4.48},\n",
    "              \"Group3 (20-49)\": {\"Current\": 4.81, \"First-Degree PD\": 10.50, \"Linear\": 5.15, \"Nonlinear\": 5.65},\n",
    "              \"Group4 (50-99)\": {\"Current\": 2.22, \"First-Degree PD\": 4.66, \"Linear\": 2.26, \"Nonlinear\": 2.64},\n",
    "              \"Group5 (100-200)\": {\"Current\": 1.72, \"First-Degree PD\": 3.62, \"Linear\": 1.72, \"Nonlinear\": 1.80},\n",
    "              \"Group6 (≥200)\": {\"Current\": 0.44, \"First-Degree PD\": 1.65, \"Linear\": 0.43, \"Nonlinear\": 0.53}})\n",
    "profit5_df[\"Sum\"] = profit5_df.sum(axis=1)\n",
    "profit5_df"
   ]
  },
  {
   "cell_type": "code",
   "execution_count": 36,
   "id": "f58836db",
   "metadata": {},
   "outputs": [
    {
     "name": "stdout",
     "output_type": "stream",
     "text": [
      "\\begin{tabular}{lrrrrrrr}\n",
      "\\toprule\n",
      "{} &  Group1 (<10) &  Group2 (10-19) &  Group3 (20-49) &  Group4 (50-99) &  Group5 (100-200) &  Group6 (≥200) &    Sum \\\\\n",
      "\\midrule\n",
      "Current         &          4.82 &            4.25 &            4.81 &            2.22 &              1.72 &           0.44 &  18.26 \\\\\n",
      "First-Degree PD &         10.47 &            7.88 &           10.50 &            4.66 &              3.62 &           1.65 &  38.78 \\\\\n",
      "Linear          &          4.71 &            4.44 &            5.15 &            2.26 &              1.72 &           0.43 &  18.71 \\\\\n",
      "Nonlinear       &          5.09 &            4.48 &            5.65 &            2.64 &              1.80 &           0.53 &  20.19 \\\\\n",
      "\\bottomrule\n",
      "\\end{tabular}\n",
      "\n"
     ]
    },
    {
     "name": "stderr",
     "output_type": "stream",
     "text": [
      "C:\\Users\\wz369\\AppData\\Local\\Temp\\ipykernel_13832\\3227267008.py:1: FutureWarning: In future versions `DataFrame.to_latex` is expected to utilise the base implementation of `Styler.to_latex` for formatting and rendering. The arguments signature may therefore change. It is recommended instead to use `DataFrame.style.to_latex` which also contains additional functionality.\n",
      "  print(profit5_df.to_latex())\n"
     ]
    }
   ],
   "source": [
    "print(profit5_df.to_latex())"
   ]
  },
  {
   "cell_type": "code",
   "execution_count": null,
   "id": "2a7b49cc",
   "metadata": {},
   "outputs": [],
   "source": []
  },
  {
   "cell_type": "code",
   "execution_count": null,
   "id": "2a8a7589",
   "metadata": {},
   "outputs": [],
   "source": [
    "cs_df = pd.DataFrame({\"Small (<20)\": {\"Current\": 9.07, \"First-Degree PD\": 18.35, \"Linear\": 9.15, \"Nonlinear\": 9.57},\n",
    "              \"Medium (20-49)\": {\"Current\": 4.81, \"First-Degree PD\": 10.50, \"Linear\": 5.15, \"Nonlinear\": 5.65},\n",
    "              \"Large (≥50)\": {\"Current\": 4.38, \"First-Degree PD\": 9.93, \"Linear\": 4.41, \"Nonlinear\": 4.98}})\n",
    "cs_df[\"Sum\"] = cs_df.sum(axis=1)\n",
    "cs_df"
   ]
  },
  {
   "cell_type": "code",
   "execution_count": null,
   "id": "653a33e3",
   "metadata": {},
   "outputs": [],
   "source": []
  }
 ],
 "metadata": {
  "kernelspec": {
   "display_name": "Python 3 (ipykernel)",
   "language": "python",
   "name": "python3"
  },
  "language_info": {
   "codemirror_mode": {
    "name": "ipython",
    "version": 3
   },
   "file_extension": ".py",
   "mimetype": "text/x-python",
   "name": "python",
   "nbconvert_exporter": "python",
   "pygments_lexer": "ipython3",
   "version": "3.9.12"
  }
 },
 "nbformat": 4,
 "nbformat_minor": 5
}
