{
 "cells": [
  {
   "cell_type": "code",
   "execution_count": 35,
   "id": "c9d54c0f",
   "metadata": {},
   "outputs": [],
   "source": [
    "import pandas as pd\n",
    "import seaborn as sns"
   ]
  },
  {
   "cell_type": "markdown",
   "id": "29b19a18",
   "metadata": {},
   "source": [
    "# Tables"
   ]
  },
  {
   "cell_type": "markdown",
   "id": "fc44724c",
   "metadata": {},
   "source": [
    "## Profit by Groups"
   ]
  },
  {
   "cell_type": "code",
   "execution_count": 11,
   "id": "9da8dec4",
   "metadata": {},
   "outputs": [
    {
     "data": {
      "text/html": [
       "<div>\n",
       "<style scoped>\n",
       "    .dataframe tbody tr th:only-of-type {\n",
       "        vertical-align: middle;\n",
       "    }\n",
       "\n",
       "    .dataframe tbody tr th {\n",
       "        vertical-align: top;\n",
       "    }\n",
       "\n",
       "    .dataframe thead th {\n",
       "        text-align: right;\n",
       "    }\n",
       "</style>\n",
       "<table border=\"1\" class=\"dataframe\">\n",
       "  <thead>\n",
       "    <tr style=\"text-align: right;\">\n",
       "      <th></th>\n",
       "      <th>Small (&lt;20)</th>\n",
       "      <th>Medium (20-49)</th>\n",
       "      <th>Large (≥50)</th>\n",
       "      <th>Total Profits</th>\n",
       "    </tr>\n",
       "  </thead>\n",
       "  <tbody>\n",
       "    <tr>\n",
       "      <th>Current</th>\n",
       "      <td>9.07</td>\n",
       "      <td>4.81</td>\n",
       "      <td>4.38</td>\n",
       "      <td>18.26</td>\n",
       "    </tr>\n",
       "    <tr>\n",
       "      <th>First-Degree PD</th>\n",
       "      <td>18.35</td>\n",
       "      <td>10.50</td>\n",
       "      <td>9.93</td>\n",
       "      <td>38.78</td>\n",
       "    </tr>\n",
       "    <tr>\n",
       "      <th>Linear</th>\n",
       "      <td>9.15</td>\n",
       "      <td>5.15</td>\n",
       "      <td>4.41</td>\n",
       "      <td>18.71</td>\n",
       "    </tr>\n",
       "    <tr>\n",
       "      <th>Nonlinear</th>\n",
       "      <td>9.57</td>\n",
       "      <td>5.65</td>\n",
       "      <td>4.98</td>\n",
       "      <td>20.20</td>\n",
       "    </tr>\n",
       "  </tbody>\n",
       "</table>\n",
       "</div>"
      ],
      "text/plain": [
       "                 Small (<20)  Medium (20-49)  Large (≥50)  Total Profits\n",
       "Current                 9.07            4.81         4.38          18.26\n",
       "First-Degree PD        18.35           10.50         9.93          38.78\n",
       "Linear                  9.15            5.15         4.41          18.71\n",
       "Nonlinear               9.57            5.65         4.98          20.20"
      ]
     },
     "execution_count": 11,
     "metadata": {},
     "output_type": "execute_result"
    }
   ],
   "source": [
    "# 3 Groups\n",
    "profit3_df = pd.DataFrame({\"Small (<20)\": {\"Current\": 9.07, \"First-Degree PD\": 18.35, \"Linear\": 9.15, \"Nonlinear\": 9.57},\n",
    "              \"Medium (20-49)\": {\"Current\": 4.81, \"First-Degree PD\": 10.50, \"Linear\": 5.15, \"Nonlinear\": 5.65},\n",
    "              \"Large (≥50)\": {\"Current\": 4.38, \"First-Degree PD\": 9.93, \"Linear\": 4.41, \"Nonlinear\": 4.98}})\n",
    "profit3_df[\"Total Profits\"] = profit3_df.sum(axis=1)\n",
    "profit3_df"
   ]
  },
  {
   "cell_type": "code",
   "execution_count": 12,
   "id": "e2bd8d63",
   "metadata": {},
   "outputs": [
    {
     "name": "stdout",
     "output_type": "stream",
     "text": [
      "\\begin{tabular}{lrrrr}\n",
      "\\toprule\n",
      "{} &  Small (<20) &  Medium (20-49) &  Large (≥50) &  Total Profits \\\\\n",
      "\\midrule\n",
      "Current         &         9.07 &            4.81 &         4.38 &          18.26 \\\\\n",
      "First-Degree PD &        18.35 &           10.50 &         9.93 &          38.78 \\\\\n",
      "Linear          &         9.15 &            5.15 &         4.41 &          18.71 \\\\\n",
      "Nonlinear       &         9.57 &            5.65 &         4.98 &          20.20 \\\\\n",
      "\\bottomrule\n",
      "\\end{tabular}\n",
      "\n"
     ]
    },
    {
     "name": "stderr",
     "output_type": "stream",
     "text": [
      "C:\\Users\\wz369\\AppData\\Local\\Temp\\ipykernel_13164\\147725666.py:1: FutureWarning: In future versions `DataFrame.to_latex` is expected to utilise the base implementation of `Styler.to_latex` for formatting and rendering. The arguments signature may therefore change. It is recommended instead to use `DataFrame.style.to_latex` which also contains additional functionality.\n",
      "  print(profit3_df.to_latex())\n"
     ]
    }
   ],
   "source": [
    "print(profit3_df.to_latex())"
   ]
  },
  {
   "cell_type": "code",
   "execution_count": 19,
   "id": "6072ede9",
   "metadata": {},
   "outputs": [
    {
     "data": {
      "text/html": [
       "<div>\n",
       "<style scoped>\n",
       "    .dataframe tbody tr th:only-of-type {\n",
       "        vertical-align: middle;\n",
       "    }\n",
       "\n",
       "    .dataframe tbody tr th {\n",
       "        vertical-align: top;\n",
       "    }\n",
       "\n",
       "    .dataframe thead th {\n",
       "        text-align: right;\n",
       "    }\n",
       "</style>\n",
       "<table border=\"1\" class=\"dataframe\">\n",
       "  <thead>\n",
       "    <tr style=\"text-align: right;\">\n",
       "      <th></th>\n",
       "      <th>Group1 (&lt;10)</th>\n",
       "      <th>Group2 (10-19)</th>\n",
       "      <th>Group3 (20-49)</th>\n",
       "      <th>Group4 (50-99)</th>\n",
       "      <th>Group5 (≥100)</th>\n",
       "      <th>Total Profits</th>\n",
       "    </tr>\n",
       "  </thead>\n",
       "  <tbody>\n",
       "    <tr>\n",
       "      <th>Current</th>\n",
       "      <td>4.82</td>\n",
       "      <td>4.25</td>\n",
       "      <td>4.81</td>\n",
       "      <td>2.22</td>\n",
       "      <td>2.16</td>\n",
       "      <td>18.26</td>\n",
       "    </tr>\n",
       "    <tr>\n",
       "      <th>First-Degree PD</th>\n",
       "      <td>10.47</td>\n",
       "      <td>7.88</td>\n",
       "      <td>10.50</td>\n",
       "      <td>4.66</td>\n",
       "      <td>5.27</td>\n",
       "      <td>38.78</td>\n",
       "    </tr>\n",
       "    <tr>\n",
       "      <th>Linear</th>\n",
       "      <td>4.71</td>\n",
       "      <td>4.44</td>\n",
       "      <td>5.15</td>\n",
       "      <td>2.26</td>\n",
       "      <td>2.15</td>\n",
       "      <td>18.71</td>\n",
       "    </tr>\n",
       "    <tr>\n",
       "      <th>Nonlinear</th>\n",
       "      <td>5.09</td>\n",
       "      <td>4.48</td>\n",
       "      <td>5.65</td>\n",
       "      <td>2.64</td>\n",
       "      <td>2.33</td>\n",
       "      <td>20.19</td>\n",
       "    </tr>\n",
       "  </tbody>\n",
       "</table>\n",
       "</div>"
      ],
      "text/plain": [
       "                 Group1 (<10)  Group2 (10-19)  Group3 (20-49)  Group4 (50-99)  \\\n",
       "Current                  4.82            4.25            4.81            2.22   \n",
       "First-Degree PD         10.47            7.88           10.50            4.66   \n",
       "Linear                   4.71            4.44            5.15            2.26   \n",
       "Nonlinear                5.09            4.48            5.65            2.64   \n",
       "\n",
       "                 Group5 (≥100)  Total Profits  \n",
       "Current                   2.16          18.26  \n",
       "First-Degree PD           5.27          38.78  \n",
       "Linear                    2.15          18.71  \n",
       "Nonlinear                 2.33          20.19  "
      ]
     },
     "execution_count": 19,
     "metadata": {},
     "output_type": "execute_result"
    }
   ],
   "source": [
    "# 5 groups\n",
    "profit5_df = pd.DataFrame({\"Group1 (<10)\": {\"Current\": 4.82, \"First-Degree PD\": 10.47, \"Linear\": 4.71, \"Nonlinear\": 5.09},\n",
    "              \"Group2 (10-19)\": {\"Current\": 4.25, \"First-Degree PD\": 7.88, \"Linear\": 4.44, \"Nonlinear\": 4.48},\n",
    "              \"Group3 (20-49)\": {\"Current\": 4.81, \"First-Degree PD\": 10.50, \"Linear\": 5.15, \"Nonlinear\": 5.65},\n",
    "              \"Group4 (50-99)\": {\"Current\": 2.22, \"First-Degree PD\": 4.66, \"Linear\": 2.26, \"Nonlinear\": 2.64},\n",
    "              \"Group5 (≥100)\": {\"Current\": 2.16, \"First-Degree PD\": 5.27, \"Linear\": 2.15, \"Nonlinear\": 2.33}})\n",
    "profit5_df[\"TotalTs\"] = profit5_df.sum(axis=1)\n",
    "profit5_df"
   ]
  },
  {
   "cell_type": "code",
   "execution_count": 20,
   "id": "f58836db",
   "metadata": {},
   "outputs": [
    {
     "name": "stdout",
     "output_type": "stream",
     "text": [
      "\\begin{tabular}{lrrrrrr}\n",
      "\\toprule\n",
      "{} &  Group1 (<10) &  Group2 (10-19) &  Group3 (20-49) &  Group4 (50-99) &  Group5 (≥100) &  Total Profits \\\\\n",
      "\\midrule\n",
      "Current         &          4.82 &            4.25 &            4.81 &            2.22 &           2.16 &          18.26 \\\\\n",
      "First-Degree PD &         10.47 &            7.88 &           10.50 &            4.66 &           5.27 &          38.78 \\\\\n",
      "Linear          &          4.71 &            4.44 &            5.15 &            2.26 &           2.15 &          18.71 \\\\\n",
      "Nonlinear       &          5.09 &            4.48 &            5.65 &            2.64 &           2.33 &          20.19 \\\\\n",
      "\\bottomrule\n",
      "\\end{tabular}\n",
      "\n"
     ]
    },
    {
     "name": "stderr",
     "output_type": "stream",
     "text": [
      "C:\\Users\\wz369\\AppData\\Local\\Temp\\ipykernel_13164\\3227267008.py:1: FutureWarning: In future versions `DataFrame.to_latex` is expected to utilise the base implementation of `Styler.to_latex` for formatting and rendering. The arguments signature may therefore change. It is recommended instead to use `DataFrame.style.to_latex` which also contains additional functionality.\n",
      "  print(profit5_df.to_latex())\n"
     ]
    }
   ],
   "source": [
    "print(profit5_df.to_latex())"
   ]
  },
  {
   "cell_type": "markdown",
   "id": "0d32cee3",
   "metadata": {},
   "source": [
    "## Consumer Welfare by Groups"
   ]
  },
  {
   "cell_type": "code",
   "execution_count": 25,
   "id": "2a8a7589",
   "metadata": {},
   "outputs": [
    {
     "data": {
      "text/html": [
       "<div>\n",
       "<style scoped>\n",
       "    .dataframe tbody tr th:only-of-type {\n",
       "        vertical-align: middle;\n",
       "    }\n",
       "\n",
       "    .dataframe tbody tr th {\n",
       "        vertical-align: top;\n",
       "    }\n",
       "\n",
       "    .dataframe thead th {\n",
       "        text-align: right;\n",
       "    }\n",
       "</style>\n",
       "<table border=\"1\" class=\"dataframe\">\n",
       "  <thead>\n",
       "    <tr style=\"text-align: right;\">\n",
       "      <th></th>\n",
       "      <th>Group1 (&lt;10)</th>\n",
       "      <th>Group2 (10-19)</th>\n",
       "      <th>Group3 (20-49)</th>\n",
       "      <th>Group4 (50-99)</th>\n",
       "      <th>Group5 (≥100)</th>\n",
       "      <th>Total CS</th>\n",
       "    </tr>\n",
       "  </thead>\n",
       "  <tbody>\n",
       "    <tr>\n",
       "      <th>Current</th>\n",
       "      <td>1.99</td>\n",
       "      <td>1.61</td>\n",
       "      <td>1.51</td>\n",
       "      <td>0.72</td>\n",
       "      <td>0.87</td>\n",
       "      <td>6.70</td>\n",
       "    </tr>\n",
       "    <tr>\n",
       "      <th>First-Degree PD</th>\n",
       "      <td>0.00</td>\n",
       "      <td>0.00</td>\n",
       "      <td>0.00</td>\n",
       "      <td>0.00</td>\n",
       "      <td>0.00</td>\n",
       "      <td>0.00</td>\n",
       "    </tr>\n",
       "    <tr>\n",
       "      <th>Linear</th>\n",
       "      <td>4.31</td>\n",
       "      <td>2.47</td>\n",
       "      <td>1.84</td>\n",
       "      <td>0.73</td>\n",
       "      <td>0.75</td>\n",
       "      <td>10.10</td>\n",
       "    </tr>\n",
       "    <tr>\n",
       "      <th>Nonlinear</th>\n",
       "      <td>2.86</td>\n",
       "      <td>2.22</td>\n",
       "      <td>2.83</td>\n",
       "      <td>1.16</td>\n",
       "      <td>1.12</td>\n",
       "      <td>10.19</td>\n",
       "    </tr>\n",
       "  </tbody>\n",
       "</table>\n",
       "</div>"
      ],
      "text/plain": [
       "                 Group1 (<10)  Group2 (10-19)  Group3 (20-49)  Group4 (50-99)  \\\n",
       "Current                  1.99            1.61            1.51            0.72   \n",
       "First-Degree PD          0.00            0.00            0.00            0.00   \n",
       "Linear                   4.31            2.47            1.84            0.73   \n",
       "Nonlinear                2.86            2.22            2.83            1.16   \n",
       "\n",
       "                 Group5 (≥100)  Total CS  \n",
       "Current                   0.87      6.70  \n",
       "First-Degree PD           0.00      0.00  \n",
       "Linear                    0.75     10.10  \n",
       "Nonlinear                 1.12     10.19  "
      ]
     },
     "execution_count": 25,
     "metadata": {},
     "output_type": "execute_result"
    }
   ],
   "source": [
    "cs_df = pd.DataFrame({\"Group1 (<10)\": {\"Current\": 1.99, \"First-Degree PD\": 0, \"Linear\": 4.31, \"Nonlinear\": 2.86},\n",
    "              \"Group2 (10-19)\": {\"Current\": 1.61, \"First-Degree PD\": 0, \"Linear\": 2.47, \"Nonlinear\": 2.22},\n",
    "              \"Group3 (20-49)\": {\"Current\": 1.51, \"First-Degree PD\": 0, \"Linear\": 1.84, \"Nonlinear\": 2.83},\n",
    "              \"Group4 (50-99)\": {\"Current\": 0.72, \"First-Degree PD\": 0, \"Linear\": 0.73, \"Nonlinear\": 1.16},\n",
    "              \"Group5 (≥100)\": {\"Current\": 0.87, \"First-Degree PD\": 0, \"Linear\": 0.75, \"Nonlinear\": 1.12}})\n",
    "cs_df[\"Total CS\"] = cs_df.sum(axis=1)\n",
    "cs_df"
   ]
  },
  {
   "cell_type": "code",
   "execution_count": 26,
   "id": "653a33e3",
   "metadata": {},
   "outputs": [
    {
     "name": "stdout",
     "output_type": "stream",
     "text": [
      "\\begin{tabular}{lrrrrrr}\n",
      "\\toprule\n",
      "{} &  Group1 (<10) &  Group2 (10-19) &  Group3 (20-49) &  Group4 (50-99) &  Group5 (≥100) &  Total CS \\\\\n",
      "\\midrule\n",
      "Current         &          1.99 &            1.61 &            1.51 &            0.72 &           0.87 &      6.70 \\\\\n",
      "First-Degree PD &          0.00 &            0.00 &            0.00 &            0.00 &           0.00 &      0.00 \\\\\n",
      "Linear          &          4.31 &            2.47 &            1.84 &            0.73 &           0.75 &     10.10 \\\\\n",
      "Nonlinear       &          2.86 &            2.22 &            2.83 &            1.16 &           1.12 &     10.19 \\\\\n",
      "\\bottomrule\n",
      "\\end{tabular}\n",
      "\n"
     ]
    },
    {
     "name": "stderr",
     "output_type": "stream",
     "text": [
      "C:\\Users\\wz369\\AppData\\Local\\Temp\\ipykernel_13164\\2609820234.py:1: FutureWarning: In future versions `DataFrame.to_latex` is expected to utilise the base implementation of `Styler.to_latex` for formatting and rendering. The arguments signature may therefore change. It is recommended instead to use `DataFrame.style.to_latex` which also contains additional functionality.\n",
      "  print(cs_df.to_latex())\n"
     ]
    }
   ],
   "source": [
    "print(cs_df.to_latex())"
   ]
  },
  {
   "cell_type": "markdown",
   "id": "0b1600cc",
   "metadata": {},
   "source": [
    "## Social Welfare by Groups"
   ]
  },
  {
   "cell_type": "code",
   "execution_count": 33,
   "id": "18affde9",
   "metadata": {},
   "outputs": [
    {
     "data": {
      "text/html": [
       "<div>\n",
       "<style scoped>\n",
       "    .dataframe tbody tr th:only-of-type {\n",
       "        vertical-align: middle;\n",
       "    }\n",
       "\n",
       "    .dataframe tbody tr th {\n",
       "        vertical-align: top;\n",
       "    }\n",
       "\n",
       "    .dataframe thead th {\n",
       "        text-align: right;\n",
       "    }\n",
       "</style>\n",
       "<table border=\"1\" class=\"dataframe\">\n",
       "  <thead>\n",
       "    <tr style=\"text-align: right;\">\n",
       "      <th></th>\n",
       "      <th>Group1 (&lt;10)</th>\n",
       "      <th>Group2 (10-19)</th>\n",
       "      <th>Group3 (20-49)</th>\n",
       "      <th>Group4 (50-99)</th>\n",
       "      <th>Group5 (≥100)</th>\n",
       "      <th>Total SW</th>\n",
       "    </tr>\n",
       "  </thead>\n",
       "  <tbody>\n",
       "    <tr>\n",
       "      <th>Current</th>\n",
       "      <td>6.81</td>\n",
       "      <td>5.86</td>\n",
       "      <td>6.32</td>\n",
       "      <td>2.94</td>\n",
       "      <td>3.03</td>\n",
       "      <td>24.96</td>\n",
       "    </tr>\n",
       "    <tr>\n",
       "      <th>First-Degree PD</th>\n",
       "      <td>10.47</td>\n",
       "      <td>7.88</td>\n",
       "      <td>10.50</td>\n",
       "      <td>4.66</td>\n",
       "      <td>5.27</td>\n",
       "      <td>38.78</td>\n",
       "    </tr>\n",
       "    <tr>\n",
       "      <th>Linear</th>\n",
       "      <td>9.02</td>\n",
       "      <td>6.91</td>\n",
       "      <td>6.99</td>\n",
       "      <td>2.99</td>\n",
       "      <td>2.90</td>\n",
       "      <td>28.81</td>\n",
       "    </tr>\n",
       "    <tr>\n",
       "      <th>Nonlinear</th>\n",
       "      <td>7.95</td>\n",
       "      <td>6.70</td>\n",
       "      <td>8.48</td>\n",
       "      <td>3.80</td>\n",
       "      <td>3.45</td>\n",
       "      <td>30.38</td>\n",
       "    </tr>\n",
       "  </tbody>\n",
       "</table>\n",
       "</div>"
      ],
      "text/plain": [
       "                 Group1 (<10)  Group2 (10-19)  Group3 (20-49)  Group4 (50-99)  \\\n",
       "Current                  6.81            5.86            6.32            2.94   \n",
       "First-Degree PD         10.47            7.88           10.50            4.66   \n",
       "Linear                   9.02            6.91            6.99            2.99   \n",
       "Nonlinear                7.95            6.70            8.48            3.80   \n",
       "\n",
       "                 Group5 (≥100)  Total SW  \n",
       "Current                   3.03     24.96  \n",
       "First-Degree PD           5.27     38.78  \n",
       "Linear                    2.90     28.81  \n",
       "Nonlinear                 3.45     30.38  "
      ]
     },
     "execution_count": 33,
     "metadata": {},
     "output_type": "execute_result"
    }
   ],
   "source": [
    "sw_df = profit5_df.rename(columns={\"Total Profits\": \"Total SW\"}) + cs_df.rename(columns={\"Total CS\": \"Total SW\"})\n",
    "sw_df"
   ]
  },
  {
   "cell_type": "code",
   "execution_count": 34,
   "id": "3b3ce133",
   "metadata": {},
   "outputs": [
    {
     "name": "stdout",
     "output_type": "stream",
     "text": [
      "\\begin{tabular}{lrrrrrr}\n",
      "\\toprule\n",
      "{} &  Group1 (<10) &  Group2 (10-19) &  Group3 (20-49) &  Group4 (50-99) &  Group5 (≥100) &  Total SW \\\\\n",
      "\\midrule\n",
      "Current         &          6.81 &            5.86 &            6.32 &            2.94 &           3.03 &     24.96 \\\\\n",
      "First-Degree PD &         10.47 &            7.88 &           10.50 &            4.66 &           5.27 &     38.78 \\\\\n",
      "Linear          &          9.02 &            6.91 &            6.99 &            2.99 &           2.90 &     28.81 \\\\\n",
      "Nonlinear       &          7.95 &            6.70 &            8.48 &            3.80 &           3.45 &     30.38 \\\\\n",
      "\\bottomrule\n",
      "\\end{tabular}\n",
      "\n"
     ]
    },
    {
     "name": "stderr",
     "output_type": "stream",
     "text": [
      "C:\\Users\\wz369\\AppData\\Local\\Temp\\ipykernel_13164\\4214689937.py:1: FutureWarning: In future versions `DataFrame.to_latex` is expected to utilise the base implementation of `Styler.to_latex` for formatting and rendering. The arguments signature may therefore change. It is recommended instead to use `DataFrame.style.to_latex` which also contains additional functionality.\n",
      "  print(sw_df.to_latex())\n"
     ]
    }
   ],
   "source": [
    "print(sw_df.to_latex())"
   ]
  },
  {
   "cell_type": "markdown",
   "id": "bea78a55",
   "metadata": {},
   "source": [
    "# Graphs"
   ]
  },
  {
   "cell_type": "code",
   "execution_count": null,
   "id": "02078a06",
   "metadata": {},
   "outputs": [],
   "source": [
    "sns.barplot(data=)"
   ]
  },
  {
   "cell_type": "code",
   "execution_count": null,
   "id": "ec56e0fd",
   "metadata": {},
   "outputs": [],
   "source": []
  },
  {
   "cell_type": "code",
   "execution_count": null,
   "id": "e52093fe",
   "metadata": {},
   "outputs": [],
   "source": []
  },
  {
   "cell_type": "code",
   "execution_count": null,
   "id": "b15549a7",
   "metadata": {},
   "outputs": [],
   "source": []
  }
 ],
 "metadata": {
  "kernelspec": {
   "display_name": "Python 3 (ipykernel)",
   "language": "python",
   "name": "python3"
  },
  "language_info": {
   "codemirror_mode": {
    "name": "ipython",
    "version": 3
   },
   "file_extension": ".py",
   "mimetype": "text/x-python",
   "name": "python",
   "nbconvert_exporter": "python",
   "pygments_lexer": "ipython3",
   "version": "3.9.12"
  }
 },
 "nbformat": 4,
 "nbformat_minor": 5
}
