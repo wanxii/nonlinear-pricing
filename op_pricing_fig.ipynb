{
 "cells": [
  {
   "cell_type": "code",
   "execution_count": 1,
   "id": "0b359c8d",
   "metadata": {},
   "outputs": [],
   "source": [
    "import matplotlib.pyplot as plt\n",
    "import numpy as np\n",
    "import pandas as pd"
   ]
  },
  {
   "cell_type": "code",
   "execution_count": 39,
   "id": "3e5a8f60",
   "metadata": {},
   "outputs": [],
   "source": [
    "def generate_utility(v1, v2, q1, q2, n):\n",
    "    length = max(q1 + 1 + n, q2 + 1 + n)\n",
    "    array_q = np.arange(length)\n",
    "    array_u1 = np.concatenate((v1 * array_q[:q1 + 1], v1 * q1 * np.ones(length - q1 - 1)))\n",
    "    array_u2 = np.concatenate((v2 * array_q[:q2 + 1], v2 * q2 * np.ones(length - q2 - 1)))\n",
    "    return array_q, array_u1, array_u2"
   ]
  },
  {
   "cell_type": "markdown",
   "id": "459fdad4",
   "metadata": {},
   "source": [
    "### Positive Relationship between $v$ and $\\bar{q}$"
   ]
  },
  {
   "cell_type": "code",
   "execution_count": null,
   "id": "c38a8c6c",
   "metadata": {},
   "outputs": [],
   "source": []
  },
  {
   "cell_type": "code",
   "execution_count": null,
   "id": "9244d0b2",
   "metadata": {},
   "outputs": [],
   "source": []
  },
  {
   "cell_type": "code",
   "execution_count": null,
   "id": "31d7c8eb",
   "metadata": {},
   "outputs": [],
   "source": []
  },
  {
   "cell_type": "markdown",
   "id": "db201953",
   "metadata": {},
   "source": [
    "### Negative Relationship between $v$ and $\\bar{q}$"
   ]
  },
  {
   "cell_type": "markdown",
   "id": "c42e6153",
   "metadata": {},
   "source": [
    "CASE 1:"
   ]
  },
  {
   "cell_type": "code",
   "execution_count": 57,
   "id": "9b27723d",
   "metadata": {},
   "outputs": [],
   "source": [
    "vl, vh, ql, qh = 1, 2, 2, 5\n",
    "v1, v2, q1, q2 = vh, vl, ql, qh\n",
    "q, u1, u2 = generate_utility(v1, v2, q1, q2, 3)"
   ]
  },
  {
   "cell_type": "code",
   "execution_count": 61,
   "id": "413284e6",
   "metadata": {},
   "outputs": [
    {
     "data": {
      "text/plain": [
       "[<matplotlib.lines.Line2D at 0x212908a2e20>]"
      ]
     },
     "execution_count": 61,
     "metadata": {},
     "output_type": "execute_result"
    },
    {
     "data": {
      "image/png": "[encoded data removed]",
      "text/plain": [
       "<Figure size 432x288 with 1 Axes>"
      ]
     },
     "metadata": {
      "needs_background": "light"
     },
     "output_type": "display_data"
    }
   ],
   "source": [
    "q[ql:qh + 1]\n",
    "\n",
    "beta1 = (v2 * q2 - v1 * q1) / (q2 - ql)\n",
    "beta0 = q1 * q2 * (v1 - v2) / (q2 - q1)\n",
    "\n",
    "beta0 + beta1 * q[ql:qh + 1]\n",
    "\n",
    "plt.plot(q, np.concatenate((u1[:ql], beta0 + beta1 * q[ql:qh + 1], u2[qh + 1:])))"
   ]
  },
  {
   "cell_type": "code",
   "execution_count": 52,
   "id": "15530720",
   "metadata": {},
   "outputs": [
    {
     "data": {
      "text/plain": [
       "array([0, 1, 2])"
      ]
     },
     "execution_count": 52,
     "metadata": {},
     "output_type": "execute_result"
    }
   ],
   "source": [
    "q[:ql + 1]"
   ]
  },
  {
   "cell_type": "code",
   "execution_count": 62,
   "id": "970bda26",
   "metadata": {},
   "outputs": [
    {
     "data": {
      "text/plain": [
       "<matplotlib.legend.Legend at 0x212909fdbe0>"
      ]
     },
     "execution_count": 62,
     "metadata": {},
     "output_type": "execute_result"
    },
    {
     "data": {
      "image/png": "[encoded data removed]",
      "text/plain": [
       "<Figure size 432x288 with 1 Axes>"
      ]
     },
     "metadata": {
      "needs_background": "light"
     },
     "output_type": "display_data"
    }
   ],
   "source": [
    "plt.plot(q, u1, label = \"Consumer1\", linestyle=\":\")\n",
    "plt.plot(q, u2, label = \"Consumer2\", linestyle=\":\")\n",
    "plt.plot(q, np.concatenate((u1[:ql], beta0 + beta1 * q[ql:qh + 1], u2[qh + 1:])), label = \"Pricing\")\n",
    "plt.legend()"
   ]
  },
  {
   "cell_type": "markdown",
   "id": "bdbe80d8",
   "metadata": {},
   "source": [
    "CASE 2:"
   ]
  },
  {
   "cell_type": "code",
   "execution_count": 11,
   "id": "faba2917",
   "metadata": {},
   "outputs": [
    {
     "data": {
      "text/html": [
       "<div>\n",
       "<style scoped>\n",
       "    .dataframe tbody tr th:only-of-type {\n",
       "        vertical-align: middle;\n",
       "    }\n",
       "\n",
       "    .dataframe tbody tr th {\n",
       "        vertical-align: top;\n",
       "    }\n",
       "\n",
       "    .dataframe thead th {\n",
       "        text-align: right;\n",
       "    }\n",
       "</style>\n",
       "<table border=\"1\" class=\"dataframe\">\n",
       "  <thead>\n",
       "    <tr style=\"text-align: right;\">\n",
       "      <th></th>\n",
       "      <th>q</th>\n",
       "      <th>u</th>\n",
       "    </tr>\n",
       "  </thead>\n",
       "  <tbody>\n",
       "    <tr>\n",
       "      <th>0</th>\n",
       "      <td>0.0</td>\n",
       "      <td>0.0</td>\n",
       "    </tr>\n",
       "    <tr>\n",
       "      <th>1</th>\n",
       "      <td>2.0</td>\n",
       "      <td>4.0</td>\n",
       "    </tr>\n",
       "    <tr>\n",
       "      <th>2</th>\n",
       "      <td>2.0</td>\n",
       "      <td>4.0</td>\n",
       "    </tr>\n",
       "    <tr>\n",
       "      <th>3</th>\n",
       "      <td>2.0</td>\n",
       "      <td>4.0</td>\n",
       "    </tr>\n",
       "  </tbody>\n",
       "</table>\n",
       "</div>"
      ],
      "text/plain": [
       "     q    u\n",
       "0  0.0  0.0\n",
       "1  2.0  4.0\n",
       "2  2.0  4.0\n",
       "3  2.0  4.0"
      ]
     },
     "execution_count": 11,
     "metadata": {},
     "output_type": "execute_result"
    }
   ],
   "source": [
    "array_q = np.concatenate((np.arange(1), 2 * np.ones(3)))\n",
    "df = pd.DataFrame({\"q\": array_q})\n",
    "df[\"u\"] = df.q * 2\n",
    "df"
   ]
  },
  {
   "cell_type": "code",
   "execution_count": null,
   "id": "a025d95a",
   "metadata": {},
   "outputs": [],
   "source": []
  }
 ],
 "metadata": {
  "kernelspec": {
   "display_name": "Python 3 (ipykernel)",
   "language": "python",
   "name": "python3"
  },
  "language_info": {
   "codemirror_mode": {
    "name": "ipython",
    "version": 3
   },
   "file_extension": ".py",
   "mimetype": "text/x-python",
   "name": "python",
   "nbconvert_exporter": "python",
   "pygments_lexer": "ipython3",
   "version": "3.9.12"
  }
 },
 "nbformat": 4,
 "nbformat_minor": 5
}
